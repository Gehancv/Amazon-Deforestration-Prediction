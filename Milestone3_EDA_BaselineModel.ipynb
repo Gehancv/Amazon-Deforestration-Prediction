{
 "cells": [
  {
   "cell_type": "markdown",
   "id": "9b51bf7f",
   "metadata": {},
   "source": [
    "# Milestone 3"
   ]
  },
  {
   "cell_type": "markdown",
   "id": "6f51fe6d",
   "metadata": {},
   "source": [
    "- Section 1: EDA\n",
    "    - 1.1: Descriptive statistics, information about the data, distribution of data\n",
    "    - 1.2: Average area of deforestation by year, plot of the changes in average\n",
    "    - 1.3: Difference in deforestation by year, plot of difference between area from previous year\n",
    "    \n",
    "- Section 2: Baseline Model\n",
    "    - Time Series \n",
    "    - Linear Regression"
   ]
  },
  {
   "cell_type": "markdown",
   "id": "d635f751",
   "metadata": {},
   "source": [
    "# Section 1: EDA"
   ]
  },
  {
   "cell_type": "markdown",
   "id": "547bb7e5",
   "metadata": {},
   "source": [
    "### 1.1 Information About Data"
   ]
  },
  {
   "cell_type": "code",
   "execution_count": 1,
   "id": "426195fe",
   "metadata": {},
   "outputs": [],
   "source": [
    "import pandas as pd\n",
    "path = '/Users/toriwright/Downloads/Amazon-Deforestration-Prediction-main/Datasets/brazil_deforestration_by_state_formatted.csv'\n",
    "data=pd.read_csv(path)\n"
   ]
  },
  {
   "cell_type": "code",
   "execution_count": 2,
   "id": "7df9510f",
   "metadata": {},
   "outputs": [
    {
     "data": {
      "text/html": [
       "<div>\n",
       "<style scoped>\n",
       "    .dataframe tbody tr th:only-of-type {\n",
       "        vertical-align: middle;\n",
       "    }\n",
       "\n",
       "    .dataframe tbody tr th {\n",
       "        vertical-align: top;\n",
       "    }\n",
       "\n",
       "    .dataframe thead th {\n",
       "        text-align: right;\n",
       "    }\n",
       "</style>\n",
       "<table border=\"1\" class=\"dataframe\">\n",
       "  <thead>\n",
       "    <tr style=\"text-align: right;\">\n",
       "      <th></th>\n",
       "      <th>year</th>\n",
       "      <th>areakm</th>\n",
       "      <th>municipality</th>\n",
       "      <th>geocode_ibge</th>\n",
       "      <th>state</th>\n",
       "    </tr>\n",
       "  </thead>\n",
       "  <tbody>\n",
       "    <tr>\n",
       "      <th>0</th>\n",
       "      <td>2007</td>\n",
       "      <td>1005.901508</td>\n",
       "      <td>Acrelandia</td>\n",
       "      <td>1200013</td>\n",
       "      <td>Acre</td>\n",
       "    </tr>\n",
       "    <tr>\n",
       "      <th>1</th>\n",
       "      <td>2008</td>\n",
       "      <td>1029.568595</td>\n",
       "      <td>Acrelandia</td>\n",
       "      <td>1200013</td>\n",
       "      <td>Acre</td>\n",
       "    </tr>\n",
       "    <tr>\n",
       "      <th>2</th>\n",
       "      <td>2009</td>\n",
       "      <td>1042.506828</td>\n",
       "      <td>Acrelandia</td>\n",
       "      <td>1200013</td>\n",
       "      <td>Acre</td>\n",
       "    </tr>\n",
       "    <tr>\n",
       "      <th>3</th>\n",
       "      <td>2010</td>\n",
       "      <td>1053.838906</td>\n",
       "      <td>Acrelandia</td>\n",
       "      <td>1200013</td>\n",
       "      <td>Acre</td>\n",
       "    </tr>\n",
       "    <tr>\n",
       "      <th>4</th>\n",
       "      <td>2011</td>\n",
       "      <td>1069.777544</td>\n",
       "      <td>Acrelandia</td>\n",
       "      <td>1200013</td>\n",
       "      <td>Acre</td>\n",
       "    </tr>\n",
       "  </tbody>\n",
       "</table>\n",
       "</div>"
      ],
      "text/plain": [
       "   year       areakm municipality  geocode_ibge state\n",
       "0  2007  1005.901508   Acrelandia       1200013  Acre\n",
       "1  2008  1029.568595   Acrelandia       1200013  Acre\n",
       "2  2009  1042.506828   Acrelandia       1200013  Acre\n",
       "3  2010  1053.838906   Acrelandia       1200013  Acre\n",
       "4  2011  1069.777544   Acrelandia       1200013  Acre"
      ]
     },
     "execution_count": 2,
     "metadata": {},
     "output_type": "execute_result"
    }
   ],
   "source": [
    "data.head()"
   ]
  },
  {
   "cell_type": "markdown",
   "id": "aa7b1804",
   "metadata": {},
   "source": [
    "What are the names of all the municipalities and how many are there?"
   ]
  },
  {
   "cell_type": "code",
   "execution_count": 3,
   "id": "f7d98e88",
   "metadata": {},
   "outputs": [
    {
     "data": {
      "text/plain": [
       "array(['Acrelandia', 'Assis Brasil', 'Brasileia', 'Bujari', 'Capixaba',\n",
       "       'Cruzeiro do Sul', 'Epitaciolandia', 'Feijo', 'Jordao',\n",
       "       'Mancio Lima', 'Manoel Urbano', 'Marechal Thaumaturgo',\n",
       "       'Placido de Castro', 'Porto Acre', 'Porto Walter', 'Rio Branco',\n",
       "       'Rodrigues Alves', 'Santa Rosa do Purus', 'Sena Madureira',\n",
       "       'Senador Guiomard', 'Tarauaca', 'Xapuri', 'Amapa', 'Calcoene',\n",
       "       'Cutias', 'Ferreira Gomes', 'Itaubal', 'Laranjal do Jari',\n",
       "       'Macapa', 'Mazagao', 'Oiapoque', 'Pedra Branca do Amapari',\n",
       "       'Porto Grande', 'Pracuuba', 'Santana', 'Serra do Navio',\n",
       "       'Tartarugalzinho', 'Vitoria do Jari', 'Alvaraes', 'Amatura',\n",
       "       'Anama', 'Anori', 'Apui', 'Atalaia do Norte', 'Autazes',\n",
       "       'Barcelos', 'Barreirinha', 'Benjamin Constant', 'Beruri',\n",
       "       'Boa Vista do Ramos', 'Boca do Acre', 'Borba', 'Caapiranga',\n",
       "       'Canutama', 'Carauari', 'Careiro', 'Careiro da Varzea', 'Coari',\n",
       "       'Codajas', 'Eirunepe', 'Envira', 'Fonte Boa', 'Guajara', 'Humaita',\n",
       "       'Ipixuna', 'Iranduba', 'Itacoatiara', 'Itamarati', 'Itapiranga',\n",
       "       'Japura', 'Jurua', 'Jutai', 'Labrea', 'Manacapuru', 'Manaquiri',\n",
       "       'Manaus', 'Manicore', 'Maraa', 'Maues', 'Nhamunda',\n",
       "       'Nova Olinda do Norte', 'Novo Airao', 'Novo Aripuana', 'Parintins',\n",
       "       'Pauini', 'Presidente Figueiredo', 'Rio Preto da Eva',\n",
       "       'Santa Isabel do Rio Negro', 'Santo Antonio do Ica',\n",
       "       'Sao Gabriel da Cachoeira', 'Sao Paulo de Olivenca',\n",
       "       'Sao Sebastiao do Uatuma', 'Silves', 'Tabatinga', 'Tapaua', 'Tefe',\n",
       "       'Tonantins', 'Uarini', 'Urucara', 'Urucurituba', 'Acailandia',\n",
       "       'Alcantara', 'Altamira do Maranhao', 'Alto Alegre do Pindare',\n",
       "       'Amapa do Maranhao', 'Amarante do Maranhao', 'Anajatuba',\n",
       "       'Apicum-Acu', 'Araguana', 'Arame', 'Arari', 'Axixa', 'Bacabal',\n",
       "       'Bacabeira', 'Bacuri', 'Bacurituba', 'Bela Vista do Maranhao',\n",
       "       'Bequimao', 'Boa Vista do Gurupi', 'Bom Jardim',\n",
       "       'Bom Jesus das Selvas', 'Bom Lugar', 'Brejo de Areia',\n",
       "       'Buriticupu', 'Buritirana', 'Cachoeira Grande', 'Cajapio',\n",
       "       'Cajari', 'Candido Mendes', 'Carutapera', 'Cedral',\n",
       "       'Central do Maranhao', 'Centro Novo do Maranhao',\n",
       "       'Centro do Guilherme', 'Cidelandia', 'Conceicao do Lago-Acu',\n",
       "       'Cururupu', 'Godofredo Viana', 'Governador Newton Bello',\n",
       "       'Governador Nunes Freire', 'Grajau', 'Guimaraes',\n",
       "       'Humberto de Campos', 'Icatu', 'Igarape do Meio', 'Imperatriz',\n",
       "       'Itaipava do Grajau', 'Itapecuru Mirim', 'Itinga do Maranhao',\n",
       "       'Joao Lisboa', 'Junco do Maranhao', 'Lago Verde', 'Lago da Pedra',\n",
       "       'Lago do Junco', 'Lago dos Rodrigues', 'Luis Domingues',\n",
       "       'Maracacume', 'Maraja do Sena', 'Maranhaozinho', 'Matinha',\n",
       "       'Matoes do Norte', 'Miranda do Norte', 'Mirinzal', 'Moncao',\n",
       "       'Morros', 'Nina Rodrigues', 'Nova Olinda do Maranhao',\n",
       "       \"Olho d'Agua das Cunhas\", 'Olinda Nova do Maranhao',\n",
       "       'Paco do Lumiar', 'Palmeirandia', 'Paulo Ramos',\n",
       "       'Pedro do Rosario', 'Penalva', 'Peri Mirim', 'Pindare-Mirim',\n",
       "       'Pinheiro', 'Pio XII', 'Porto Rico do Maranhao',\n",
       "       'Presidente Juscelino', 'Presidente Medici', 'Presidente Sarney',\n",
       "       'Presidente Vargas', 'Primeira Cruz', 'Raposa', 'Rosario',\n",
       "       'Santa Helena', 'Santa Ines', 'Santa Luzia',\n",
       "       'Santa Luzia do Parua', 'Santa Rita', 'Sao Bento',\n",
       "       'Sao Francisco do Brejao', 'Sao Joao Batista', 'Sao Joao do Caru',\n",
       "       'Sao Jose de Ribamar', 'Sao Luis', 'Sao Luis Gonzaga do Maranhao',\n",
       "       'Sao Mateus do Maranhao', 'Sao Pedro da Agua Branca',\n",
       "       'Sao Vicente Ferrer', 'Satubinha', 'Senador La Rocque',\n",
       "       'Serrano do Maranhao', 'Tufilandia', 'Turiacu', 'Turilandia',\n",
       "       'Viana', 'Vila Nova dos Martirios', 'Vitoria do Mearim',\n",
       "       'Vitorino Freire', 'Ze Doca', 'Agua Boa', 'Alta Floresta',\n",
       "       'Alto Boa Vista', 'Alto Paraguai', 'Apiacas', 'Araputanga',\n",
       "       'Arenapolis', 'Aripuana', 'Barra do Bugres',\n",
       "       'Bom Jesus do Araguaia', 'Brasnorte', 'Caceres', 'Campinapolis',\n",
       "       'Campo Novo do Parecis', 'Canabrava do Norte', 'Canarana',\n",
       "       'Carlinda', 'Castanheira', 'Claudia', 'Colider', 'Colniza',\n",
       "       'Comodoro', 'Confresa', \"Conquista D'Oeste\", 'Cotriguacu',\n",
       "       'Curvelandia', 'Denise', 'Diamantino', 'Feliz Natal',\n",
       "       \"Figueiropolis D'Oeste\", 'Gaucha do Norte', \"Gloria D'Oeste\",\n",
       "       'Guaranta do Norte', 'Indiavai', 'Ipiranga do Norte', 'Itanhanga',\n",
       "       'Itauba', 'Jauru', 'Juara', 'Juina', 'Juruena', \"Lambari D'Oeste\",\n",
       "       'Lucas do Rio Verde', 'Luciara', 'Marcelandia', 'Matupa',\n",
       "       \"Mirassol d'Oeste\", 'Nortelandia', 'Nova Bandeirantes',\n",
       "       'Nova Canaa do Norte', 'Nova Guarita', 'Nova Lacerda',\n",
       "       'Nova Marilandia', 'Nova Maringa', 'Nova Monte Verde',\n",
       "       'Nova Mutum', 'Nova Olimpia', 'Nova Santa Helena', 'Nova Ubirata',\n",
       "       'Novo Horizonte do Norte', 'Novo Mundo', 'Novo Santo Antonio',\n",
       "       'Paranaita', 'Paranatinga', 'Peixoto de Azevedo',\n",
       "       'Pontes e Lacerda', 'Porto Alegre do Norte', 'Porto Esperidiao',\n",
       "       'Porto Estrela', 'Porto dos Gauchos', 'Querencia',\n",
       "       'Reserva do Cabacal', 'Ribeirao Cascalheira', 'Rondolandia',\n",
       "       'Salto do Ceu', 'Santa Carmem', 'Santa Cruz do Xingu',\n",
       "       'Santa Terezinha', 'Santo Afonso', 'Sao Felix do Araguaia',\n",
       "       'Sao Jose do Rio Claro', 'Sao Jose do Xingu',\n",
       "       'Sao Jose dos Quatro Marcos', 'Sapezal', 'Serra Nova Dourada',\n",
       "       'Sinop', 'Sorriso', 'Tabapora', 'Tangara da Serra', 'Tapurah',\n",
       "       'Terra Nova do Norte', 'Uniao do Sul', 'Vale de Sao Domingos',\n",
       "       'Vera', 'Vila Bela da Santissima Trindade', 'Vila Rica',\n",
       "       \"Alta Floresta D'Oeste\", 'Alto Alegre dos Parecis', 'Alto Paraiso',\n",
       "       \"Alvorada D'Oeste\", 'Ariquemes', 'Buritis', 'Cabixi',\n",
       "       'Cacaulandia', 'Cacoal', 'Campo Novo de Rondonia',\n",
       "       'Candeias do Jamari', 'Castanheiras', 'Cerejeiras', 'Chupinguaia',\n",
       "       'Colorado do Oeste', 'Corumbiara', 'Costa Marques', 'Cujubim',\n",
       "       \"Espigao D'Oeste\", 'Governador Jorge Teixeira', 'Guajara-Mirim',\n",
       "       'Itapua do Oeste', 'Jaru', 'Ji-Parana', \"Machadinho D'Oeste\",\n",
       "       'Ministro Andreazza', 'Mirante da Serra', 'Monte Negro',\n",
       "       \"Nova Brasilandia D'Oeste\", 'Nova Mamore', 'Nova Uniao',\n",
       "       'Novo Horizonte do Oeste', 'Ouro Preto do Oeste', 'Parecis',\n",
       "       'Pimenta Bueno', 'Pimenteiras do Oeste', 'Porto Velho',\n",
       "       'Primavera de Rondonia', 'Rio Crespo', 'Rolim de Moura',\n",
       "       \"Santa Luzia D'Oeste\", \"Sao Felipe D'Oeste\",\n",
       "       'Sao Francisco do Guapore', 'Sao Miguel do Guapore',\n",
       "       'Seringueiras', 'Teixeiropolis', 'Theobroma', 'Urupa',\n",
       "       'Vale do Anari', 'Vale do Paraiso', 'Vilhena', 'Alto Alegre',\n",
       "       'Amajari', 'Boa Vista', 'Bonfim', 'Canta', 'Caracarai', 'Caroebe',\n",
       "       'Iracema', 'Mucajai', 'Normandia', 'Pacaraima', 'Rorainopolis',\n",
       "       'Sao Joao da Baliza', 'Sao Luiz', 'Uiramuta', 'Ananas', 'Angico',\n",
       "       'Aragominas', 'Araguaina', 'Araguatins', 'Arapoema',\n",
       "       'Augustinopolis', 'Bandeirantes do Tocantins', 'Bernardo Sayao',\n",
       "       'Brasilandia do Tocantins', 'Buriti do Tocantins', 'Carmolandia',\n",
       "       'Carrasco Bonito', 'Colinas do Tocantins', 'Colmeia',\n",
       "       'Couto Magalhaes', 'Darcinopolis', 'Dois Irmaos do Tocantins',\n",
       "       'Esperantina', 'Goianorte', 'Guarai', 'Itapora do Tocantins',\n",
       "       'Juarina', 'Miranorte', 'Muricilandia', 'Nova Olinda',\n",
       "       \"Pau D'Arco\", 'Pequizeiro', 'Piraque', 'Presidente Kennedy',\n",
       "       'Riachinho', 'Sampaio', 'Santa Fe do Araguaia',\n",
       "       'Sao Bento do Tocantins', 'Sao Sebastiao do Tocantins', 'Tabocao',\n",
       "       'Wanderlandia', 'Xambioa'], dtype=object)"
      ]
     },
     "execution_count": 3,
     "metadata": {},
     "output_type": "execute_result"
    }
   ],
   "source": [
    "data['municipality'].unique()"
   ]
  },
  {
   "cell_type": "code",
   "execution_count": 4,
   "id": "d1ba2826",
   "metadata": {},
   "outputs": [
    {
     "data": {
      "text/plain": [
       "412"
      ]
     },
     "execution_count": 4,
     "metadata": {},
     "output_type": "execute_result"
    }
   ],
   "source": [
    "data['municipality'].nunique()"
   ]
  },
  {
   "cell_type": "markdown",
   "id": "ebe69024",
   "metadata": {},
   "source": [
    "There are 412 unique municipalities which are listed above."
   ]
  },
  {
   "cell_type": "markdown",
   "id": "7b6ce5f3",
   "metadata": {},
   "source": [
    "What are the names of all the states and how many are there?"
   ]
  },
  {
   "cell_type": "code",
   "execution_count": 5,
   "id": "74b41ab4",
   "metadata": {},
   "outputs": [
    {
     "data": {
      "text/plain": [
       "array(['Acre', 'Amapa', 'Amazonas', 'Maranhao', 'Mato Grosso', 'Rondonia',\n",
       "       'Roraima', 'Tocantins'], dtype=object)"
      ]
     },
     "execution_count": 5,
     "metadata": {},
     "output_type": "execute_result"
    }
   ],
   "source": [
    "data['state'].unique()"
   ]
  },
  {
   "cell_type": "code",
   "execution_count": 6,
   "id": "40084ca4",
   "metadata": {},
   "outputs": [
    {
     "data": {
      "text/plain": [
       "8"
      ]
     },
     "execution_count": 6,
     "metadata": {},
     "output_type": "execute_result"
    }
   ],
   "source": [
    "data['state'].nunique()"
   ]
  },
  {
   "cell_type": "markdown",
   "id": "f88b4020",
   "metadata": {},
   "source": [
    "There are 8 different states which are listed above."
   ]
  },
  {
   "cell_type": "markdown",
   "id": "7605e83d",
   "metadata": {},
   "source": [
    "Sort the data by time (ascending)"
   ]
  },
  {
   "cell_type": "code",
   "execution_count": 7,
   "id": "4b82c06e",
   "metadata": {},
   "outputs": [
    {
     "data": {
      "text/html": [
       "<div>\n",
       "<style scoped>\n",
       "    .dataframe tbody tr th:only-of-type {\n",
       "        vertical-align: middle;\n",
       "    }\n",
       "\n",
       "    .dataframe tbody tr th {\n",
       "        vertical-align: top;\n",
       "    }\n",
       "\n",
       "    .dataframe thead th {\n",
       "        text-align: right;\n",
       "    }\n",
       "</style>\n",
       "<table border=\"1\" class=\"dataframe\">\n",
       "  <thead>\n",
       "    <tr style=\"text-align: right;\">\n",
       "      <th></th>\n",
       "      <th>year</th>\n",
       "      <th>areakm</th>\n",
       "      <th>municipality</th>\n",
       "      <th>geocode_ibge</th>\n",
       "      <th>state</th>\n",
       "    </tr>\n",
       "  </thead>\n",
       "  <tbody>\n",
       "    <tr>\n",
       "      <th>0</th>\n",
       "      <td>2007</td>\n",
       "      <td>1005.901508</td>\n",
       "      <td>Acrelandia</td>\n",
       "      <td>1200013</td>\n",
       "      <td>Acre</td>\n",
       "    </tr>\n",
       "    <tr>\n",
       "      <th>2704</th>\n",
       "      <td>2007</td>\n",
       "      <td>68.882225</td>\n",
       "      <td>Paco do Lumiar</td>\n",
       "      <td>2107506</td>\n",
       "      <td>Maranhao</td>\n",
       "    </tr>\n",
       "    <tr>\n",
       "      <th>4528</th>\n",
       "      <td>2007</td>\n",
       "      <td>150.828449</td>\n",
       "      <td>Reserva do Cabacal</td>\n",
       "      <td>5107156</td>\n",
       "      <td>Mato Grosso</td>\n",
       "    </tr>\n",
       "    <tr>\n",
       "      <th>4064</th>\n",
       "      <td>2007</td>\n",
       "      <td>237.488863</td>\n",
       "      <td>Lucas do Rio Verde</td>\n",
       "      <td>5105259</td>\n",
       "      <td>Mato Grosso</td>\n",
       "    </tr>\n",
       "    <tr>\n",
       "      <th>5200</th>\n",
       "      <td>2007</td>\n",
       "      <td>1486.386657</td>\n",
       "      <td>Costa Marques</td>\n",
       "      <td>1100080</td>\n",
       "      <td>Rondonia</td>\n",
       "    </tr>\n",
       "    <tr>\n",
       "      <th>...</th>\n",
       "      <td>...</td>\n",
       "      <td>...</td>\n",
       "      <td>...</td>\n",
       "      <td>...</td>\n",
       "      <td>...</td>\n",
       "    </tr>\n",
       "    <tr>\n",
       "      <th>4767</th>\n",
       "      <td>2022</td>\n",
       "      <td>342.400689</td>\n",
       "      <td>Serra Nova Dourada</td>\n",
       "      <td>5107883</td>\n",
       "      <td>Mato Grosso</td>\n",
       "    </tr>\n",
       "    <tr>\n",
       "      <th>1663</th>\n",
       "      <td>2022</td>\n",
       "      <td>1800.440157</td>\n",
       "      <td>Alto Alegre do Pindare</td>\n",
       "      <td>2100477</td>\n",
       "      <td>Maranhao</td>\n",
       "    </tr>\n",
       "    <tr>\n",
       "      <th>4783</th>\n",
       "      <td>2022</td>\n",
       "      <td>2643.463789</td>\n",
       "      <td>Sinop</td>\n",
       "      <td>5107909</td>\n",
       "      <td>Mato Grosso</td>\n",
       "    </tr>\n",
       "    <tr>\n",
       "      <th>6223</th>\n",
       "      <td>2022</td>\n",
       "      <td>307.013326</td>\n",
       "      <td>Carmolandia</td>\n",
       "      <td>1703883</td>\n",
       "      <td>Tocantins</td>\n",
       "    </tr>\n",
       "    <tr>\n",
       "      <th>6639</th>\n",
       "      <td>2022</td>\n",
       "      <td>1001.044093</td>\n",
       "      <td>Xambioa</td>\n",
       "      <td>1722107</td>\n",
       "      <td>Tocantins</td>\n",
       "    </tr>\n",
       "  </tbody>\n",
       "</table>\n",
       "<p>6640 rows × 5 columns</p>\n",
       "</div>"
      ],
      "text/plain": [
       "      year       areakm            municipality  geocode_ibge        state\n",
       "0     2007  1005.901508              Acrelandia       1200013         Acre\n",
       "2704  2007    68.882225          Paco do Lumiar       2107506     Maranhao\n",
       "4528  2007   150.828449      Reserva do Cabacal       5107156  Mato Grosso\n",
       "4064  2007   237.488863      Lucas do Rio Verde       5105259  Mato Grosso\n",
       "5200  2007  1486.386657           Costa Marques       1100080     Rondonia\n",
       "...    ...          ...                     ...           ...          ...\n",
       "4767  2022   342.400689      Serra Nova Dourada       5107883  Mato Grosso\n",
       "1663  2022  1800.440157  Alto Alegre do Pindare       2100477     Maranhao\n",
       "4783  2022  2643.463789                   Sinop       5107909  Mato Grosso\n",
       "6223  2022   307.013326             Carmolandia       1703883    Tocantins\n",
       "6639  2022  1001.044093                 Xambioa       1722107    Tocantins\n",
       "\n",
       "[6640 rows x 5 columns]"
      ]
     },
     "execution_count": 7,
     "metadata": {},
     "output_type": "execute_result"
    }
   ],
   "source": [
    "data.sort_values(by=['year'])"
   ]
  },
  {
   "cell_type": "markdown",
   "id": "efafc256",
   "metadata": {},
   "source": [
    "The data spans from 2007 to 2022."
   ]
  },
  {
   "cell_type": "markdown",
   "id": "c463820a",
   "metadata": {},
   "source": [
    "Now lets look at the data for each state."
   ]
  },
  {
   "cell_type": "code",
   "execution_count": 8,
   "id": "bc07289f",
   "metadata": {},
   "outputs": [
    {
     "name": "stdout",
     "output_type": "stream",
     "text": [
      "State: Acre\n"
     ]
    },
    {
     "data": {
      "text/html": [
       "<div>\n",
       "<style scoped>\n",
       "    .dataframe tbody tr th:only-of-type {\n",
       "        vertical-align: middle;\n",
       "    }\n",
       "\n",
       "    .dataframe tbody tr th {\n",
       "        vertical-align: top;\n",
       "    }\n",
       "\n",
       "    .dataframe thead th {\n",
       "        text-align: right;\n",
       "    }\n",
       "</style>\n",
       "<table border=\"1\" class=\"dataframe\">\n",
       "  <thead>\n",
       "    <tr style=\"text-align: right;\">\n",
       "      <th></th>\n",
       "      <th>year</th>\n",
       "      <th>areakm</th>\n",
       "      <th>municipality</th>\n",
       "      <th>geocode_ibge</th>\n",
       "      <th>state</th>\n",
       "    </tr>\n",
       "  </thead>\n",
       "  <tbody>\n",
       "    <tr>\n",
       "      <th>0</th>\n",
       "      <td>2007</td>\n",
       "      <td>1005.901508</td>\n",
       "      <td>Acrelandia</td>\n",
       "      <td>1200013</td>\n",
       "      <td>Acre</td>\n",
       "    </tr>\n",
       "    <tr>\n",
       "      <th>32</th>\n",
       "      <td>2007</td>\n",
       "      <td>1203.149826</td>\n",
       "      <td>Brasileia</td>\n",
       "      <td>1200104</td>\n",
       "      <td>Acre</td>\n",
       "    </tr>\n",
       "    <tr>\n",
       "      <th>272</th>\n",
       "      <td>2007</td>\n",
       "      <td>67.116349</td>\n",
       "      <td>Santa Rosa do Purus</td>\n",
       "      <td>1200435</td>\n",
       "      <td>Acre</td>\n",
       "    </tr>\n",
       "    <tr>\n",
       "      <th>256</th>\n",
       "      <td>2007</td>\n",
       "      <td>409.719071</td>\n",
       "      <td>Rodrigues Alves</td>\n",
       "      <td>1200427</td>\n",
       "      <td>Acre</td>\n",
       "    </tr>\n",
       "    <tr>\n",
       "      <th>48</th>\n",
       "      <td>2007</td>\n",
       "      <td>1116.955936</td>\n",
       "      <td>Bujari</td>\n",
       "      <td>1200138</td>\n",
       "      <td>Acre</td>\n",
       "    </tr>\n",
       "    <tr>\n",
       "      <th>...</th>\n",
       "      <td>...</td>\n",
       "      <td>...</td>\n",
       "      <td>...</td>\n",
       "      <td>...</td>\n",
       "      <td>...</td>\n",
       "    </tr>\n",
       "    <tr>\n",
       "      <th>255</th>\n",
       "      <td>2022</td>\n",
       "      <td>3062.655247</td>\n",
       "      <td>Rio Branco</td>\n",
       "      <td>1200401</td>\n",
       "      <td>Acre</td>\n",
       "    </tr>\n",
       "    <tr>\n",
       "      <th>271</th>\n",
       "      <td>2022</td>\n",
       "      <td>527.223835</td>\n",
       "      <td>Rodrigues Alves</td>\n",
       "      <td>1200427</td>\n",
       "      <td>Acre</td>\n",
       "    </tr>\n",
       "    <tr>\n",
       "      <th>287</th>\n",
       "      <td>2022</td>\n",
       "      <td>114.865099</td>\n",
       "      <td>Santa Rosa do Purus</td>\n",
       "      <td>1200435</td>\n",
       "      <td>Acre</td>\n",
       "    </tr>\n",
       "    <tr>\n",
       "      <th>319</th>\n",
       "      <td>2022</td>\n",
       "      <td>1744.081345</td>\n",
       "      <td>Senador Guiomard</td>\n",
       "      <td>1200450</td>\n",
       "      <td>Acre</td>\n",
       "    </tr>\n",
       "    <tr>\n",
       "      <th>351</th>\n",
       "      <td>2022</td>\n",
       "      <td>1621.064226</td>\n",
       "      <td>Xapuri</td>\n",
       "      <td>1200708</td>\n",
       "      <td>Acre</td>\n",
       "    </tr>\n",
       "  </tbody>\n",
       "</table>\n",
       "<p>352 rows × 5 columns</p>\n",
       "</div>"
      ],
      "text/plain": [
       "     year       areakm         municipality  geocode_ibge state\n",
       "0    2007  1005.901508           Acrelandia       1200013  Acre\n",
       "32   2007  1203.149826            Brasileia       1200104  Acre\n",
       "272  2007    67.116349  Santa Rosa do Purus       1200435  Acre\n",
       "256  2007   409.719071      Rodrigues Alves       1200427  Acre\n",
       "48   2007  1116.955936               Bujari       1200138  Acre\n",
       "..    ...          ...                  ...           ...   ...\n",
       "255  2022  3062.655247           Rio Branco       1200401  Acre\n",
       "271  2022   527.223835      Rodrigues Alves       1200427  Acre\n",
       "287  2022   114.865099  Santa Rosa do Purus       1200435  Acre\n",
       "319  2022  1744.081345     Senador Guiomard       1200450  Acre\n",
       "351  2022  1621.064226               Xapuri       1200708  Acre\n",
       "\n",
       "[352 rows x 5 columns]"
      ]
     },
     "execution_count": 8,
     "metadata": {},
     "output_type": "execute_result"
    }
   ],
   "source": [
    "################\n",
    "#To look at EDA for diffrent states, run this cell and input the state you wish to analyze\n",
    "###############\n",
    "\n",
    "state= input('State: ')\n",
    "state_data=data[data['state']==state]\n",
    "state_data.sort_values(by=['year'])"
   ]
  },
  {
   "cell_type": "code",
   "execution_count": 9,
   "id": "26c8a7ea",
   "metadata": {},
   "outputs": [
    {
     "data": {
      "text/plain": [
       "Text(0, 0.5, 'Frequency')"
      ]
     },
     "execution_count": 9,
     "metadata": {},
     "output_type": "execute_result"
    },
    {
     "data": {
      "image/png": "[encoded data removed]",
      "text/plain": [
       "<Figure size 640x480 with 1 Axes>"
      ]
     },
     "metadata": {},
     "output_type": "display_data"
    }
   ],
   "source": [
    "import matplotlib.pyplot as plt\n",
    "plt.hist(state_data['areakm'])\n",
    "plt.title('Distribution of Area in Kilometers of Deforestation from 2007 to 2022 for {}'.format(state))\n",
    "plt.xlabel('Area (Km)')\n",
    "plt.ylabel('Frequency')"
   ]
  },
  {
   "cell_type": "code",
   "execution_count": 10,
   "id": "5dc394ea",
   "metadata": {},
   "outputs": [
    {
     "data": {
      "text/plain": [
       "count     352.000000\n",
       "mean      988.131688\n",
       "std       656.949701\n",
       "min        67.116349\n",
       "25%       345.975311\n",
       "50%      1056.185245\n",
       "75%      1398.961778\n",
       "max      3062.655247\n",
       "Name: areakm, dtype: float64"
      ]
     },
     "execution_count": 10,
     "metadata": {},
     "output_type": "execute_result"
    }
   ],
   "source": [
    "state_data['areakm'].describe()"
   ]
  },
  {
   "cell_type": "markdown",
   "id": "1970cc39",
   "metadata": {},
   "source": [
    "### 1.2: Average Area of Deforestation (Km) by Year "
   ]
  },
  {
   "cell_type": "code",
   "execution_count": 11,
   "id": "b94f2266",
   "metadata": {},
   "outputs": [],
   "source": [
    "average_km = state_data.groupby('year')['areakm'].mean()\n",
    "\n",
    "average_km = average_km.to_frame()"
   ]
  },
  {
   "cell_type": "code",
   "execution_count": 12,
   "id": "61d43932",
   "metadata": {},
   "outputs": [
    {
     "data": {
      "text/html": [
       "<div>\n",
       "<style scoped>\n",
       "    .dataframe tbody tr th:only-of-type {\n",
       "        vertical-align: middle;\n",
       "    }\n",
       "\n",
       "    .dataframe tbody tr th {\n",
       "        vertical-align: top;\n",
       "    }\n",
       "\n",
       "    .dataframe thead th {\n",
       "        text-align: right;\n",
       "    }\n",
       "</style>\n",
       "<table border=\"1\" class=\"dataframe\">\n",
       "  <thead>\n",
       "    <tr style=\"text-align: right;\">\n",
       "      <th></th>\n",
       "      <th>year</th>\n",
       "      <th>areakm</th>\n",
       "    </tr>\n",
       "  </thead>\n",
       "  <tbody>\n",
       "    <tr>\n",
       "      <th>0</th>\n",
       "      <td>2007</td>\n",
       "      <td>882.440254</td>\n",
       "    </tr>\n",
       "    <tr>\n",
       "      <th>1</th>\n",
       "      <td>2008</td>\n",
       "      <td>895.565653</td>\n",
       "    </tr>\n",
       "    <tr>\n",
       "      <th>2</th>\n",
       "      <td>2009</td>\n",
       "      <td>902.917072</td>\n",
       "    </tr>\n",
       "    <tr>\n",
       "      <th>3</th>\n",
       "      <td>2010</td>\n",
       "      <td>914.974482</td>\n",
       "    </tr>\n",
       "    <tr>\n",
       "      <th>4</th>\n",
       "      <td>2011</td>\n",
       "      <td>928.408634</td>\n",
       "    </tr>\n",
       "    <tr>\n",
       "      <th>5</th>\n",
       "      <td>2012</td>\n",
       "      <td>940.704718</td>\n",
       "    </tr>\n",
       "    <tr>\n",
       "      <th>6</th>\n",
       "      <td>2013</td>\n",
       "      <td>949.806710</td>\n",
       "    </tr>\n",
       "    <tr>\n",
       "      <th>7</th>\n",
       "      <td>2014</td>\n",
       "      <td>965.651654</td>\n",
       "    </tr>\n",
       "    <tr>\n",
       "      <th>8</th>\n",
       "      <td>2015</td>\n",
       "      <td>975.781423</td>\n",
       "    </tr>\n",
       "    <tr>\n",
       "      <th>9</th>\n",
       "      <td>2016</td>\n",
       "      <td>992.425323</td>\n",
       "    </tr>\n",
       "    <tr>\n",
       "      <th>10</th>\n",
       "      <td>2017</td>\n",
       "      <td>1003.591394</td>\n",
       "    </tr>\n",
       "    <tr>\n",
       "      <th>11</th>\n",
       "      <td>2018</td>\n",
       "      <td>1022.981667</td>\n",
       "    </tr>\n",
       "    <tr>\n",
       "      <th>12</th>\n",
       "      <td>2019</td>\n",
       "      <td>1055.112554</td>\n",
       "    </tr>\n",
       "    <tr>\n",
       "      <th>13</th>\n",
       "      <td>2020</td>\n",
       "      <td>1085.145100</td>\n",
       "    </tr>\n",
       "    <tr>\n",
       "      <th>14</th>\n",
       "      <td>2021</td>\n",
       "      <td>1125.693047</td>\n",
       "    </tr>\n",
       "    <tr>\n",
       "      <th>15</th>\n",
       "      <td>2022</td>\n",
       "      <td>1168.907323</td>\n",
       "    </tr>\n",
       "  </tbody>\n",
       "</table>\n",
       "</div>"
      ],
      "text/plain": [
       "    year       areakm\n",
       "0   2007   882.440254\n",
       "1   2008   895.565653\n",
       "2   2009   902.917072\n",
       "3   2010   914.974482\n",
       "4   2011   928.408634\n",
       "5   2012   940.704718\n",
       "6   2013   949.806710\n",
       "7   2014   965.651654\n",
       "8   2015   975.781423\n",
       "9   2016   992.425323\n",
       "10  2017  1003.591394\n",
       "11  2018  1022.981667\n",
       "12  2019  1055.112554\n",
       "13  2020  1085.145100\n",
       "14  2021  1125.693047\n",
       "15  2022  1168.907323"
      ]
     },
     "execution_count": 12,
     "metadata": {},
     "output_type": "execute_result"
    }
   ],
   "source": [
    "average_km=average_km.reset_index()\n",
    "average_km"
   ]
  },
  {
   "cell_type": "code",
   "execution_count": 13,
   "id": "db91eb75",
   "metadata": {},
   "outputs": [
    {
     "data": {
      "image/png": "[encoded data removed]",
      "text/plain": [
       "<Figure size 640x480 with 1 Axes>"
      ]
     },
     "metadata": {},
     "output_type": "display_data"
    }
   ],
   "source": [
    "plt.plot(average_km.year,average_km.areakm)\n",
    "plt.xlabel('Year')\n",
    "plt.ylabel('Area of Deforestation (Km)')\n",
    "plt.title('Average Area of Deforestation in Kilometers by Year for {}'.format(state))\n",
    "plt.show()"
   ]
  },
  {
   "cell_type": "markdown",
   "id": "e548fac7",
   "metadata": {},
   "source": [
    "Based on the plot, we can say that there is an upwards trend in average area of deforestation by year. The function is monotonically increasing."
   ]
  },
  {
   "cell_type": "markdown",
   "id": "7bc62487",
   "metadata": {},
   "source": [
    "### 1.3: Difference in Area of Deforestation by Year"
   ]
  },
  {
   "cell_type": "markdown",
   "id": "cb28682c",
   "metadata": {},
   "source": [
    "Find the difference in area of deforestation in kilometers from the previous year."
   ]
  },
  {
   "cell_type": "markdown",
   "id": "aedae1e6",
   "metadata": {},
   "source": [
    "$ Area_{n+1}- Area_{n} $"
   ]
  },
  {
   "cell_type": "code",
   "execution_count": 14,
   "id": "c521ba8d",
   "metadata": {},
   "outputs": [],
   "source": [
    "#calculates the diffrenece in area from previous year\n",
    "area_vals = average_km['areakm'].values\n",
    "diff_area = area_vals[1:] - area_vals[:-1]\n",
    "diff_area = pd.DataFrame(diff_area, columns=['diff_area'])"
   ]
  },
  {
   "cell_type": "code",
   "execution_count": 15,
   "id": "92bd39b8",
   "metadata": {},
   "outputs": [],
   "source": [
    "diff_area['year'] = range(2008, 2023)"
   ]
  },
  {
   "cell_type": "code",
   "execution_count": 16,
   "id": "38b0cad2",
   "metadata": {},
   "outputs": [
    {
     "data": {
      "text/html": [
       "<div>\n",
       "<style scoped>\n",
       "    .dataframe tbody tr th:only-of-type {\n",
       "        vertical-align: middle;\n",
       "    }\n",
       "\n",
       "    .dataframe tbody tr th {\n",
       "        vertical-align: top;\n",
       "    }\n",
       "\n",
       "    .dataframe thead th {\n",
       "        text-align: right;\n",
       "    }\n",
       "</style>\n",
       "<table border=\"1\" class=\"dataframe\">\n",
       "  <thead>\n",
       "    <tr style=\"text-align: right;\">\n",
       "      <th></th>\n",
       "      <th>diff_area</th>\n",
       "      <th>year</th>\n",
       "    </tr>\n",
       "  </thead>\n",
       "  <tbody>\n",
       "    <tr>\n",
       "      <th>0</th>\n",
       "      <td>13.125399</td>\n",
       "      <td>2008</td>\n",
       "    </tr>\n",
       "    <tr>\n",
       "      <th>1</th>\n",
       "      <td>7.351419</td>\n",
       "      <td>2009</td>\n",
       "    </tr>\n",
       "    <tr>\n",
       "      <th>2</th>\n",
       "      <td>12.057410</td>\n",
       "      <td>2010</td>\n",
       "    </tr>\n",
       "    <tr>\n",
       "      <th>3</th>\n",
       "      <td>13.434153</td>\n",
       "      <td>2011</td>\n",
       "    </tr>\n",
       "    <tr>\n",
       "      <th>4</th>\n",
       "      <td>12.296084</td>\n",
       "      <td>2012</td>\n",
       "    </tr>\n",
       "    <tr>\n",
       "      <th>5</th>\n",
       "      <td>9.101991</td>\n",
       "      <td>2013</td>\n",
       "    </tr>\n",
       "    <tr>\n",
       "      <th>6</th>\n",
       "      <td>15.844944</td>\n",
       "      <td>2014</td>\n",
       "    </tr>\n",
       "    <tr>\n",
       "      <th>7</th>\n",
       "      <td>10.129769</td>\n",
       "      <td>2015</td>\n",
       "    </tr>\n",
       "    <tr>\n",
       "      <th>8</th>\n",
       "      <td>16.643900</td>\n",
       "      <td>2016</td>\n",
       "    </tr>\n",
       "    <tr>\n",
       "      <th>9</th>\n",
       "      <td>11.166071</td>\n",
       "      <td>2017</td>\n",
       "    </tr>\n",
       "    <tr>\n",
       "      <th>10</th>\n",
       "      <td>19.390273</td>\n",
       "      <td>2018</td>\n",
       "    </tr>\n",
       "    <tr>\n",
       "      <th>11</th>\n",
       "      <td>32.130887</td>\n",
       "      <td>2019</td>\n",
       "    </tr>\n",
       "    <tr>\n",
       "      <th>12</th>\n",
       "      <td>30.032546</td>\n",
       "      <td>2020</td>\n",
       "    </tr>\n",
       "    <tr>\n",
       "      <th>13</th>\n",
       "      <td>40.547946</td>\n",
       "      <td>2021</td>\n",
       "    </tr>\n",
       "    <tr>\n",
       "      <th>14</th>\n",
       "      <td>43.214276</td>\n",
       "      <td>2022</td>\n",
       "    </tr>\n",
       "  </tbody>\n",
       "</table>\n",
       "</div>"
      ],
      "text/plain": [
       "    diff_area  year\n",
       "0   13.125399  2008\n",
       "1    7.351419  2009\n",
       "2   12.057410  2010\n",
       "3   13.434153  2011\n",
       "4   12.296084  2012\n",
       "5    9.101991  2013\n",
       "6   15.844944  2014\n",
       "7   10.129769  2015\n",
       "8   16.643900  2016\n",
       "9   11.166071  2017\n",
       "10  19.390273  2018\n",
       "11  32.130887  2019\n",
       "12  30.032546  2020\n",
       "13  40.547946  2021\n",
       "14  43.214276  2022"
      ]
     },
     "execution_count": 16,
     "metadata": {},
     "output_type": "execute_result"
    }
   ],
   "source": [
    "diff_area"
   ]
  },
  {
   "cell_type": "markdown",
   "id": "39f8c88f",
   "metadata": {},
   "source": [
    "Each entry in the above dataframe shows the diffrence in area of deforestation from the previous year."
   ]
  },
  {
   "cell_type": "code",
   "execution_count": 17,
   "id": "d6d5f23f",
   "metadata": {},
   "outputs": [
    {
     "data": {
      "image/png": "[encoded data removed]",
      "text/plain": [
       "<Figure size 640x480 with 1 Axes>"
      ]
     },
     "metadata": {},
     "output_type": "display_data"
    }
   ],
   "source": [
    "plt.plot(diff_area.year,diff_area.diff_area)\n",
    "plt.xlabel('Year')\n",
    "plt.ylabel('Diffrenece in Area of Deforestation (Km)')\n",
    "plt.title('Change in Area of Deforestation in Kilometers from the Previous Year for {}'.format(state))\n",
    "plt.show()"
   ]
  },
  {
   "cell_type": "markdown",
   "id": "cef4d10e",
   "metadata": {},
   "source": [
    "From this plot, we can see that the area of deforestation has skyrocketed in previous years. From 2018, the area of deforestation has steadily incresed and shows an upwards trend. "
   ]
  },
  {
   "cell_type": "markdown",
   "id": "64f2bccd",
   "metadata": {},
   "source": [
    "# Section 2: Baseline Model"
   ]
  },
  {
   "cell_type": "code",
   "execution_count": 18,
   "id": "9c612ef0",
   "metadata": {},
   "outputs": [],
   "source": [
    "series = state_data.groupby('year')['areakm'].mean()\n",
    "# Create a Series with a DatetimeIndex\n",
    "data = pd.Series([1, 2, 3], index=pd.date_range('2022-01-01', periods=3, freq='D'))"
   ]
  },
  {
   "cell_type": "code",
   "execution_count": 19,
   "id": "c5e7fe98",
   "metadata": {},
   "outputs": [
    {
     "data": {
      "text/plain": [
       "year\n",
       "2007     882.440254\n",
       "2008     895.565653\n",
       "2009     902.917072\n",
       "2010     914.974482\n",
       "2011     928.408634\n",
       "2012     940.704718\n",
       "2013     949.806710\n",
       "2014     965.651654\n",
       "2015     975.781423\n",
       "2016     992.425323\n",
       "2017    1003.591394\n",
       "2018    1022.981667\n",
       "2019    1055.112554\n",
       "2020    1085.145100\n",
       "2021    1125.693047\n",
       "2022    1168.907323\n",
       "Name: areakm, dtype: float64"
      ]
     },
     "execution_count": 19,
     "metadata": {},
     "output_type": "execute_result"
    }
   ],
   "source": [
    "series"
   ]
  },
  {
   "cell_type": "code",
   "execution_count": 20,
   "id": "86397c6a",
   "metadata": {},
   "outputs": [
    {
     "data": {
      "image/png": "[encoded data removed]",
      "text/plain": [
       "<Figure size 640x480 with 1 Axes>"
      ]
     },
     "metadata": {},
     "output_type": "display_data"
    }
   ],
   "source": [
    "from matplotlib import pyplot \n",
    "\n",
    "series.plot()\n",
    "pyplot.show()"
   ]
  },
  {
   "cell_type": "code",
   "execution_count": 21,
   "id": "879c8a94",
   "metadata": {},
   "outputs": [
    {
     "data": {
      "text/plain": [
       "<AxesSubplot:xlabel='Lag', ylabel='Autocorrelation'>"
      ]
     },
     "execution_count": 21,
     "metadata": {},
     "output_type": "execute_result"
    },
    {
     "data": {
      "image/png": "[encoded data removed]",
      "text/plain": [
       "<Figure size 640x480 with 1 Axes>"
      ]
     },
     "metadata": {},
     "output_type": "display_data"
    }
   ],
   "source": [
    "#autocorrelation plot\n",
    "pd.plotting.autocorrelation_plot(series)"
   ]
  },
  {
   "cell_type": "markdown",
   "id": "260d06b7",
   "metadata": {},
   "source": [
    "There is a high degree of autocorrelation between consecutive observations. The data is not random and has some relationship."
   ]
  },
  {
   "cell_type": "markdown",
   "id": "e0445241",
   "metadata": {},
   "source": [
    "### Linear Regression"
   ]
  },
  {
   "cell_type": "code",
   "execution_count": 22,
   "id": "b0492831",
   "metadata": {},
   "outputs": [
    {
     "data": {
      "text/html": [
       "<style>#sk-container-id-1 {color: black;background-color: white;}#sk-container-id-1 pre{padding: 0;}#sk-container-id-1 div.sk-toggleable {background-color: white;}#sk-container-id-1 label.sk-toggleable__label {cursor: pointer;display: block;width: 100%;margin-bottom: 0;padding: 0.3em;box-sizing: border-box;text-align: center;}#sk-container-id-1 label.sk-toggleable__label-arrow:before {content: \"▸\";float: left;margin-right: 0.25em;color: #696969;}#sk-container-id-1 label.sk-toggleable__label-arrow:hover:before {color: black;}#sk-container-id-1 div.sk-estimator:hover label.sk-toggleable__label-arrow:before {color: black;}#sk-container-id-1 div.sk-toggleable__content {max-height: 0;max-width: 0;overflow: hidden;text-align: left;background-color: #f0f8ff;}#sk-container-id-1 div.sk-toggleable__content pre {margin: 0.2em;color: black;border-radius: 0.25em;background-color: #f0f8ff;}#sk-container-id-1 input.sk-toggleable__control:checked~div.sk-toggleable__content {max-height: 200px;max-width: 100%;overflow: auto;}#sk-container-id-1 input.sk-toggleable__control:checked~label.sk-toggleable__label-arrow:before {content: \"▾\";}#sk-container-id-1 div.sk-estimator input.sk-toggleable__control:checked~label.sk-toggleable__label {background-color: #d4ebff;}#sk-container-id-1 div.sk-label input.sk-toggleable__control:checked~label.sk-toggleable__label {background-color: #d4ebff;}#sk-container-id-1 input.sk-hidden--visually {border: 0;clip: rect(1px 1px 1px 1px);clip: rect(1px, 1px, 1px, 1px);height: 1px;margin: -1px;overflow: hidden;padding: 0;position: absolute;width: 1px;}#sk-container-id-1 div.sk-estimator {font-family: monospace;background-color: #f0f8ff;border: 1px dotted black;border-radius: 0.25em;box-sizing: border-box;margin-bottom: 0.5em;}#sk-container-id-1 div.sk-estimator:hover {background-color: #d4ebff;}#sk-container-id-1 div.sk-parallel-item::after {content: \"\";width: 100%;border-bottom: 1px solid gray;flex-grow: 1;}#sk-container-id-1 div.sk-label:hover label.sk-toggleable__label {background-color: #d4ebff;}#sk-container-id-1 div.sk-serial::before {content: \"\";position: absolute;border-left: 1px solid gray;box-sizing: border-box;top: 0;bottom: 0;left: 50%;z-index: 0;}#sk-container-id-1 div.sk-serial {display: flex;flex-direction: column;align-items: center;background-color: white;padding-right: 0.2em;padding-left: 0.2em;position: relative;}#sk-container-id-1 div.sk-item {position: relative;z-index: 1;}#sk-container-id-1 div.sk-parallel {display: flex;align-items: stretch;justify-content: center;background-color: white;position: relative;}#sk-container-id-1 div.sk-item::before, #sk-container-id-1 div.sk-parallel-item::before {content: \"\";position: absolute;border-left: 1px solid gray;box-sizing: border-box;top: 0;bottom: 0;left: 50%;z-index: -1;}#sk-container-id-1 div.sk-parallel-item {display: flex;flex-direction: column;z-index: 1;position: relative;background-color: white;}#sk-container-id-1 div.sk-parallel-item:first-child::after {align-self: flex-end;width: 50%;}#sk-container-id-1 div.sk-parallel-item:last-child::after {align-self: flex-start;width: 50%;}#sk-container-id-1 div.sk-parallel-item:only-child::after {width: 0;}#sk-container-id-1 div.sk-dashed-wrapped {border: 1px dashed gray;margin: 0 0.4em 0.5em 0.4em;box-sizing: border-box;padding-bottom: 0.4em;background-color: white;}#sk-container-id-1 div.sk-label label {font-family: monospace;font-weight: bold;display: inline-block;line-height: 1.2em;}#sk-container-id-1 div.sk-label-container {text-align: center;}#sk-container-id-1 div.sk-container {/* jupyter's `normalize.less` sets `[hidden] { display: none; }` but bootstrap.min.css set `[hidden] { display: none !important; }` so we also need the `!important` here to be able to override the default hidden behavior on the sphinx rendered scikit-learn.org. See: https://github.com/scikit-learn/scikit-learn/issues/21755 */display: inline-block !important;position: relative;}#sk-container-id-1 div.sk-text-repr-fallback {display: none;}</style><div id=\"sk-container-id-1\" class=\"sk-top-container\"><div class=\"sk-text-repr-fallback\"><pre>LinearRegression()</pre><b>In a Jupyter environment, please rerun this cell to show the HTML representation or trust the notebook. <br />On GitHub, the HTML representation is unable to render, please try loading this page with nbviewer.org.</b></div><div class=\"sk-container\" hidden><div class=\"sk-item\"><div class=\"sk-estimator sk-toggleable\"><input class=\"sk-toggleable__control sk-hidden--visually\" id=\"sk-estimator-id-1\" type=\"checkbox\" checked><label for=\"sk-estimator-id-1\" class=\"sk-toggleable__label sk-toggleable__label-arrow\">LinearRegression</label><div class=\"sk-toggleable__content\"><pre>LinearRegression()</pre></div></div></div></div></div>"
      ],
      "text/plain": [
       "LinearRegression()"
      ]
     },
     "execution_count": 22,
     "metadata": {},
     "output_type": "execute_result"
    }
   ],
   "source": [
    "from sklearn.linear_model import LinearRegression \n",
    "import numpy\n",
    "X = [i for i in range(0, len(series))]\n",
    "X = numpy.reshape(X, (len(X), 1))\n",
    "y = series.values\n",
    "model = LinearRegression()\n",
    "model.fit(X, y)"
   ]
  },
  {
   "cell_type": "code",
   "execution_count": 23,
   "id": "990b5732",
   "metadata": {},
   "outputs": [],
   "source": [
    "# calculate trend\n",
    "trend = model.predict(X)"
   ]
  },
  {
   "cell_type": "code",
   "execution_count": 24,
   "id": "f22fe2ed",
   "metadata": {},
   "outputs": [
    {
     "data": {
      "image/png": "[encoded data removed]",
      "text/plain": [
       "<Figure size 640x480 with 1 Axes>"
      ]
     },
     "metadata": {},
     "output_type": "display_data"
    }
   ],
   "source": [
    "# calculate trend\n",
    "trend = model.predict(X)\n",
    "# plot trend\n",
    "pyplot.plot(y, label='Series')\n",
    "pyplot.plot(trend, label = 'Trend')\n",
    "plt.legend(loc=\"upper left\")\n",
    "pyplot.title('Trend and Series Data')\n",
    "pyplot.show()"
   ]
  },
  {
   "cell_type": "code",
   "execution_count": 25,
   "id": "0ef10f52",
   "metadata": {},
   "outputs": [],
   "source": [
    "# split into train and test sets\n",
    "X = series.values\n",
    "size = int(len(X) * 0.70)\n",
    "train, test = X[0:size], X[size:len(X)]\n",
    "history = [x for x in train]"
   ]
  },
  {
   "cell_type": "code",
   "execution_count": 26,
   "id": "34432bfa",
   "metadata": {},
   "outputs": [
    {
     "name": "stdout",
     "output_type": "stream",
     "text": [
      "predicted=1015.640392, expected=1022.981667\n",
      "predicted=1036.812369, expected=1055.112554\n",
      "predicted=1080.939662, expected=1085.145100\n",
      "predicted=1114.024757, expected=1125.693047\n",
      "predicted=1163.473834, expected=1168.907323\n"
     ]
    },
    {
     "name": "stderr",
     "output_type": "stream",
     "text": [
      "/Users/toriwright/opt/anaconda3/lib/python3.9/site-packages/statsmodels/tsa/statespace/sarimax.py:978: UserWarning: Non-invertible starting MA parameters found. Using zeros as starting parameters.\n",
      "  warn('Non-invertible starting MA parameters found.'\n",
      "/Users/toriwright/opt/anaconda3/lib/python3.9/site-packages/statsmodels/base/model.py:604: ConvergenceWarning: Maximum Likelihood optimization failed to converge. Check mle_retvals\n",
      "  warnings.warn(\"Maximum Likelihood optimization failed to \"\n",
      "/Users/toriwright/opt/anaconda3/lib/python3.9/site-packages/statsmodels/tsa/statespace/sarimax.py:966: UserWarning: Non-stationary starting autoregressive parameters found. Using zeros as starting parameters.\n",
      "  warn('Non-stationary starting autoregressive parameters'\n"
     ]
    }
   ],
   "source": [
    "from statsmodels.tsa.arima.model import ARIMA\n",
    "predictions = list()\n",
    "# walk-forward validation\n",
    "for t in range(len(test)):\n",
    "    model = ARIMA(history, order=(1,1,1))\n",
    "    model_fit = model.fit()\n",
    "    output = model_fit.forecast()\n",
    "    yhat = output[0]\n",
    "    predictions.append(yhat)\n",
    "    obs = test[t]\n",
    "    history.append(obs)\n",
    "    print('predicted=%f, expected=%f' % (yhat, obs))"
   ]
  },
  {
   "cell_type": "code",
   "execution_count": 27,
   "id": "75f2990d",
   "metadata": {},
   "outputs": [
    {
     "name": "stdout",
     "output_type": "stream",
     "text": [
      "predicted=1018.392445, expected=1022.981667\n"
     ]
    },
    {
     "name": "stderr",
     "output_type": "stream",
     "text": [
      "/Users/toriwright/opt/anaconda3/lib/python3.9/site-packages/statsmodels/base/model.py:604: ConvergenceWarning: Maximum Likelihood optimization failed to converge. Check mle_retvals\n",
      "  warnings.warn(\"Maximum Likelihood optimization failed to \"\n",
      "/Users/toriwright/opt/anaconda3/lib/python3.9/site-packages/statsmodels/base/model.py:604: ConvergenceWarning: Maximum Likelihood optimization failed to converge. Check mle_retvals\n",
      "  warnings.warn(\"Maximum Likelihood optimization failed to \"\n",
      "/Users/toriwright/opt/anaconda3/lib/python3.9/site-packages/statsmodels/base/model.py:604: ConvergenceWarning: Maximum Likelihood optimization failed to converge. Check mle_retvals\n",
      "  warnings.warn(\"Maximum Likelihood optimization failed to \"\n"
     ]
    },
    {
     "name": "stdout",
     "output_type": "stream",
     "text": [
      "predicted=1034.038761, expected=1055.112554\n",
      "predicted=1079.775598, expected=1085.145100\n",
      "predicted=1113.474056, expected=1125.693047\n",
      "predicted=1164.355525, expected=1168.907323\n"
     ]
    }
   ],
   "source": [
    "history = [x for x in train]\n",
    "predictions = list()\n",
    "\n",
    "# walk-forward validation\n",
    "for t in range(len(test)):\n",
    " model = ARIMA(history, order=(5,1,1))\n",
    " model_fit = model.fit()\n",
    " output = model_fit.forecast()\n",
    " yhat = output[0]\n",
    " predictions.append(yhat)\n",
    " obs = test[t]\n",
    " history.append(obs)\n",
    " print('predicted=%f, expected=%f' % (yhat, obs))\n",
    "# evaluate forecasts"
   ]
  },
  {
   "cell_type": "code",
   "execution_count": 28,
   "id": "819a2729",
   "metadata": {},
   "outputs": [
    {
     "name": "stdout",
     "output_type": "stream",
     "text": [
      "Test RMSE: 11.524\n"
     ]
    }
   ],
   "source": [
    "from sklearn.metrics import mean_squared_error \n",
    "from math import sqrt\n",
    "rmse = sqrt(mean_squared_error(test, predictions))\n",
    "print('Test RMSE: %.3f' % rmse)"
   ]
  },
  {
   "cell_type": "code",
   "execution_count": 29,
   "id": "5c3f9879",
   "metadata": {},
   "outputs": [
    {
     "data": {
      "image/png": "[encoded data removed]",
      "text/plain": [
       "<Figure size 640x480 with 1 Axes>"
      ]
     },
     "metadata": {},
     "output_type": "display_data"
    }
   ],
   "source": [
    "# plot forecasts against actual outcomes\n",
    "pyplot.plot(test, label='Expected')\n",
    "pyplot.plot(predictions, color='red', label='Predicted')\n",
    "pyplot.title('Expected Values vs. Rolling Forecast Predictions')\n",
    "plt.legend(loc=\"upper left\")\n",
    "pyplot.show()"
   ]
  },
  {
   "cell_type": "code",
   "execution_count": null,
   "id": "0a5f49d0",
   "metadata": {},
   "outputs": [],
   "source": []
  }
 ],
 "metadata": {
  "kernelspec": {
   "display_name": "Python 3 (ipykernel)",
   "language": "python",
   "name": "python3"
  },
  "language_info": {
   "codemirror_mode": {
    "name": "ipython",
    "version": 3
   },
   "file_extension": ".py",
   "mimetype": "text/x-python",
   "name": "python",
   "nbconvert_exporter": "python",
   "pygments_lexer": "ipython3",
   "version": "3.9.13"
  }
 },
 "nbformat": 4,
 "nbformat_minor": 5
}
