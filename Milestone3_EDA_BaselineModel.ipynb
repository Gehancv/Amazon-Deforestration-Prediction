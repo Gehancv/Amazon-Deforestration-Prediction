{
  "cells": [
    {
      "cell_type": "markdown",
      "id": "9b51bf7f",
      "metadata": {
        "id": "9b51bf7f"
      },
      "source": [
        "# Milestone 3"
      ]
    },
    {
      "cell_type": "markdown",
      "id": "6f51fe6d",
      "metadata": {
        "id": "6f51fe6d"
      },
      "source": [
        "### Dataset 01: Deforestration of forest regions by states from 2001 to 2021\n",
        "- Section 1: EDA\n",
        "    - 1.1: Descriptive statistics, information about the data, distribution of data\n",
        "    - 1.2: Total deforestration in forest regions by year\n",
        "- Section 2: Baseline Model\n",
        "    - Linear Regression\n",
        "### Dataset 02: Deforestration of municipalities in each state from 2007 to 2022\n",
        "- Section 1: EDA\n",
        "    - 1.1: Descriptive statistics, information about the data, distribution of data\n",
        "    - 1.2: Average area of deforestation by year, plot of the changes in average\n",
        "    - 1.3: Difference in deforestation by year, plot of difference between area from previous year\n",
        "- Section 2: Baseline Model\n",
        "    - Time Series \n",
        "    - Linear Regression"
      ]
    },
    {
      "cell_type": "markdown",
      "id": "81b01a20",
      "metadata": {
        "id": "81b01a20"
      },
      "source": [
        "# Dataset 01"
      ]
    },
    {
      "cell_type": "markdown",
      "id": "d635f751",
      "metadata": {
        "id": "d635f751"
      },
      "source": [
        "## Section 1: EDA"
      ]
    },
    {
      "cell_type": "markdown",
      "id": "547bb7e5",
      "metadata": {
        "id": "547bb7e5"
      },
      "source": [
        "### 1.1 Descriptive statistics, information about the data, distribution of data"
      ]
    },
    {
      "cell_type": "code",
      "execution_count": 1,
      "id": "207881de",
      "metadata": {
        "id": "207881de"
      },
      "outputs": [],
      "source": [
        "import pandas as pd\n",
        "import seaborn as sns\n",
        "from sklearn import preprocessing\n",
        "from sklearn.linear_model import LinearRegression\n",
        "from sklearn.model_selection import KFold\n",
        "from sklearn.model_selection import cross_val_score\n",
        "from sklearn.model_selection import train_test_split\n",
        "from sklearn.metrics import r2_score\n",
        "from sklearn.metrics import mean_squared_error\n",
        "from numpy import std"
      ]
    },
    {
      "cell_type": "code",
      "execution_count": 4,
      "id": "293fb3fe",
      "metadata": {
        "colab": {
          "base_uri": "https://localhost:8080/",
          "height": 261
        },
        "id": "293fb3fe",
        "outputId": "773dab68-4c9a-4044-a549-c6a374387fbc"
      },
      "outputs": [
        {
          "output_type": "stream",
          "name": "stdout",
          "text": [
            "Shape: (811, 4)\n"
          ]
        },
        {
          "output_type": "stream",
          "name": "stderr",
          "text": [
            "<ipython-input-4-300c741380d1>:6: FutureWarning: The pandas.np module is deprecated and will be removed from pandas in a future version. Import numpy directly instead.\n",
            "  df['areakm'] = df.areakm.astype(pd.np.float64)\n"
          ]
        },
        {
          "output_type": "execute_result",
          "data": {
            "text/plain": [
              "   year  areakm               state    region\n",
              "0  2004  661.35  Mato Grosso do Sul  pantanal\n",
              "1  2003  661.35  Mato Grosso do Sul  pantanal\n",
              "2  2002  661.35  Mato Grosso do Sul  pantanal\n",
              "3  2001  661.35  Mato Grosso do Sul  pantanal\n",
              "4  2006  634.51  Mato Grosso do Sul  pantanal"
            ],
            "text/html": [
              "\n",
              "  <div id=\"df-b468f6c3-c204-40f5-9dbb-75802d17c06a\">\n",
              "    <div class=\"colab-df-container\">\n",
              "      <div>\n",
              "<style scoped>\n",
              "    .dataframe tbody tr th:only-of-type {\n",
              "        vertical-align: middle;\n",
              "    }\n",
              "\n",
              "    .dataframe tbody tr th {\n",
              "        vertical-align: top;\n",
              "    }\n",
              "\n",
              "    .dataframe thead th {\n",
              "        text-align: right;\n",
              "    }\n",
              "</style>\n",
              "<table border=\"1\" class=\"dataframe\">\n",
              "  <thead>\n",
              "    <tr style=\"text-align: right;\">\n",
              "      <th></th>\n",
              "      <th>year</th>\n",
              "      <th>areakm</th>\n",
              "      <th>state</th>\n",
              "      <th>region</th>\n",
              "    </tr>\n",
              "  </thead>\n",
              "  <tbody>\n",
              "    <tr>\n",
              "      <th>0</th>\n",
              "      <td>2004</td>\n",
              "      <td>661.35</td>\n",
              "      <td>Mato Grosso do Sul</td>\n",
              "      <td>pantanal</td>\n",
              "    </tr>\n",
              "    <tr>\n",
              "      <th>1</th>\n",
              "      <td>2003</td>\n",
              "      <td>661.35</td>\n",
              "      <td>Mato Grosso do Sul</td>\n",
              "      <td>pantanal</td>\n",
              "    </tr>\n",
              "    <tr>\n",
              "      <th>2</th>\n",
              "      <td>2002</td>\n",
              "      <td>661.35</td>\n",
              "      <td>Mato Grosso do Sul</td>\n",
              "      <td>pantanal</td>\n",
              "    </tr>\n",
              "    <tr>\n",
              "      <th>3</th>\n",
              "      <td>2001</td>\n",
              "      <td>661.35</td>\n",
              "      <td>Mato Grosso do Sul</td>\n",
              "      <td>pantanal</td>\n",
              "    </tr>\n",
              "    <tr>\n",
              "      <th>4</th>\n",
              "      <td>2006</td>\n",
              "      <td>634.51</td>\n",
              "      <td>Mato Grosso do Sul</td>\n",
              "      <td>pantanal</td>\n",
              "    </tr>\n",
              "  </tbody>\n",
              "</table>\n",
              "</div>\n",
              "      <button class=\"colab-df-convert\" onclick=\"convertToInteractive('df-b468f6c3-c204-40f5-9dbb-75802d17c06a')\"\n",
              "              title=\"Convert this dataframe to an interactive table.\"\n",
              "              style=\"display:none;\">\n",
              "        \n",
              "  <svg xmlns=\"http://www.w3.org/2000/svg\" height=\"24px\"viewBox=\"0 0 24 24\"\n",
              "       width=\"24px\">\n",
              "    <path d=\"M0 0h24v24H0V0z\" fill=\"none\"/>\n",
              "    <path d=\"M18.56 5.44l.94 2.06.94-2.06 2.06-.94-2.06-.94-.94-2.06-.94 2.06-2.06.94zm-11 1L8.5 8.5l.94-2.06 2.06-.94-2.06-.94L8.5 2.5l-.94 2.06-2.06.94zm10 10l.94 2.06.94-2.06 2.06-.94-2.06-.94-.94-2.06-.94 2.06-2.06.94z\"/><path d=\"M17.41 7.96l-1.37-1.37c-.4-.4-.92-.59-1.43-.59-.52 0-1.04.2-1.43.59L10.3 9.45l-7.72 7.72c-.78.78-.78 2.05 0 2.83L4 21.41c.39.39.9.59 1.41.59.51 0 1.02-.2 1.41-.59l7.78-7.78 2.81-2.81c.8-.78.8-2.07 0-2.86zM5.41 20L4 18.59l7.72-7.72 1.47 1.35L5.41 20z\"/>\n",
              "  </svg>\n",
              "      </button>\n",
              "      \n",
              "  <style>\n",
              "    .colab-df-container {\n",
              "      display:flex;\n",
              "      flex-wrap:wrap;\n",
              "      gap: 12px;\n",
              "    }\n",
              "\n",
              "    .colab-df-convert {\n",
              "      background-color: #E8F0FE;\n",
              "      border: none;\n",
              "      border-radius: 50%;\n",
              "      cursor: pointer;\n",
              "      display: none;\n",
              "      fill: #1967D2;\n",
              "      height: 32px;\n",
              "      padding: 0 0 0 0;\n",
              "      width: 32px;\n",
              "    }\n",
              "\n",
              "    .colab-df-convert:hover {\n",
              "      background-color: #E2EBFA;\n",
              "      box-shadow: 0px 1px 2px rgba(60, 64, 67, 0.3), 0px 1px 3px 1px rgba(60, 64, 67, 0.15);\n",
              "      fill: #174EA6;\n",
              "    }\n",
              "\n",
              "    [theme=dark] .colab-df-convert {\n",
              "      background-color: #3B4455;\n",
              "      fill: #D2E3FC;\n",
              "    }\n",
              "\n",
              "    [theme=dark] .colab-df-convert:hover {\n",
              "      background-color: #434B5C;\n",
              "      box-shadow: 0px 1px 3px 1px rgba(0, 0, 0, 0.15);\n",
              "      filter: drop-shadow(0px 1px 2px rgba(0, 0, 0, 0.3));\n",
              "      fill: #FFFFFF;\n",
              "    }\n",
              "  </style>\n",
              "\n",
              "      <script>\n",
              "        const buttonEl =\n",
              "          document.querySelector('#df-b468f6c3-c204-40f5-9dbb-75802d17c06a button.colab-df-convert');\n",
              "        buttonEl.style.display =\n",
              "          google.colab.kernel.accessAllowed ? 'block' : 'none';\n",
              "\n",
              "        async function convertToInteractive(key) {\n",
              "          const element = document.querySelector('#df-b468f6c3-c204-40f5-9dbb-75802d17c06a');\n",
              "          const dataTable =\n",
              "            await google.colab.kernel.invokeFunction('convertToInteractive',\n",
              "                                                     [key], {});\n",
              "          if (!dataTable) return;\n",
              "\n",
              "          const docLinkHtml = 'Like what you see? Visit the ' +\n",
              "            '<a target=\"_blank\" href=https://colab.research.google.com/notebooks/data_table.ipynb>data table notebook</a>'\n",
              "            + ' to learn more about interactive tables.';\n",
              "          element.innerHTML = '';\n",
              "          dataTable['output_type'] = 'display_data';\n",
              "          await google.colab.output.renderOutput(dataTable, element);\n",
              "          const docLink = document.createElement('div');\n",
              "          docLink.innerHTML = docLinkHtml;\n",
              "          element.appendChild(docLink);\n",
              "        }\n",
              "      </script>\n",
              "    </div>\n",
              "  </div>\n",
              "  "
            ]
          },
          "metadata": {},
          "execution_count": 4
        }
      ],
      "source": [
        "#Read deforestration dataset\n",
        "file_name_1 =  'terrabrasilis_deforestration.csv';\n",
        "df = pd.read_csv(file_name_1, decimal=',')\n",
        "#Convert data type of area to float\n",
        "df['areakm'] = df['areakm'].str.replace(',','')\n",
        "df['areakm'] = df.areakm.astype(pd.np.float64)\n",
        "\n",
        "#Print shape of the dataset\n",
        "print('Shape: {}'.format(df.shape))\n",
        "\n",
        "#Print first 5 rows of the dataset\n",
        "df.head(5)"
      ]
    },
    {
      "cell_type": "markdown",
      "id": "9c5ef0de",
      "metadata": {
        "id": "9c5ef0de"
      },
      "source": [
        "What are the names of the forest regions and how many are there?"
      ]
    },
    {
      "cell_type": "code",
      "execution_count": 5,
      "id": "69cad52e",
      "metadata": {
        "colab": {
          "base_uri": "https://localhost:8080/"
        },
        "id": "69cad52e",
        "outputId": "2db5c155-ae00-4da3-9ef0-73650c44db78"
      },
      "outputs": [
        {
          "output_type": "execute_result",
          "data": {
            "text/plain": [
              "array(['pantanal', 'cerrado', 'caatinga', 'mata_atlantica', 'pampa'],\n",
              "      dtype=object)"
            ]
          },
          "metadata": {},
          "execution_count": 5
        }
      ],
      "source": [
        "df.region.unique()"
      ]
    },
    {
      "cell_type": "code",
      "execution_count": 6,
      "id": "29b4a71c",
      "metadata": {
        "colab": {
          "base_uri": "https://localhost:8080/"
        },
        "id": "29b4a71c",
        "outputId": "cab325ca-7b1a-4854-86fb-ebcd853cd6a1"
      },
      "outputs": [
        {
          "output_type": "execute_result",
          "data": {
            "text/plain": [
              "5"
            ]
          },
          "metadata": {},
          "execution_count": 6
        }
      ],
      "source": [
        "df.region.nunique()"
      ]
    },
    {
      "cell_type": "markdown",
      "id": "c9551600",
      "metadata": {
        "id": "c9551600"
      },
      "source": [
        "What are the names of the states which these forest regiions spans across and how many are there?"
      ]
    },
    {
      "cell_type": "code",
      "execution_count": 7,
      "id": "e2f78b21",
      "metadata": {
        "colab": {
          "base_uri": "https://localhost:8080/"
        },
        "id": "e2f78b21",
        "outputId": "deb81fe8-f4d6-489b-be65-d229f4d5fbe9"
      },
      "outputs": [
        {
          "output_type": "execute_result",
          "data": {
            "text/plain": [
              "array(['Mato Grosso do Sul', 'Mato Grosso', 'Tocantins', 'Goiás',\n",
              "       'Maranhão', 'Minas Gerais', 'Bahia', 'Piauí', 'Pará', 'São Paulo',\n",
              "       'Distrito Federal', 'Rondônia', 'Paraná', 'Ceará', 'Pernambuco',\n",
              "       'Paraíba', 'Rio Grande do Norte', 'Sergipe', 'Alagoas',\n",
              "       'Rio Grande do Sul', 'Santa Catarina', 'Espírito Santo',\n",
              "       'Rio de Janeiro'], dtype=object)"
            ]
          },
          "metadata": {},
          "execution_count": 7
        }
      ],
      "source": [
        "df.state.unique()"
      ]
    },
    {
      "cell_type": "code",
      "execution_count": 8,
      "id": "97b9de9c",
      "metadata": {
        "colab": {
          "base_uri": "https://localhost:8080/"
        },
        "id": "97b9de9c",
        "outputId": "64d558f4-f2ca-4364-c27a-7f0194dadcca"
      },
      "outputs": [
        {
          "output_type": "execute_result",
          "data": {
            "text/plain": [
              "23"
            ]
          },
          "metadata": {},
          "execution_count": 8
        }
      ],
      "source": [
        "df.state.nunique()"
      ]
    },
    {
      "cell_type": "code",
      "execution_count": 9,
      "id": "31b27c31",
      "metadata": {
        "colab": {
          "base_uri": "https://localhost:8080/",
          "height": 448
        },
        "id": "31b27c31",
        "outputId": "908facd7-eb48-4a06-cddd-15fa2a95ee23"
      },
      "outputs": [
        {
          "output_type": "execute_result",
          "data": {
            "text/plain": [
              "<Axes: >"
            ]
          },
          "metadata": {},
          "execution_count": 9
        },
        {
          "output_type": "display_data",
          "data": {
            "text/plain": [
              "<Figure size 640x480 with 1 Axes>"
            ],
            "image/png": "[encoded data removed]"
          },
          "metadata": {}
        }
      ],
      "source": [
        "#Box plot on areakm field\n",
        "df.boxplot(column='areakm')"
      ]
    },
    {
      "cell_type": "markdown",
      "id": "5823382c",
      "metadata": {
        "id": "5823382c"
      },
      "source": [
        "We can see that there are considerable amount of outliers over the upper bound. "
      ]
    },
    {
      "cell_type": "code",
      "execution_count": 10,
      "id": "3ddb1845",
      "metadata": {
        "colab": {
          "base_uri": "https://localhost:8080/",
          "height": 668
        },
        "id": "3ddb1845",
        "outputId": "a879a1d7-76d9-4cf4-d79c-4f3731e8d163"
      },
      "outputs": [
        {
          "output_type": "stream",
          "name": "stderr",
          "text": [
            "<ipython-input-10-662b6eb55f4b>:1: UserWarning: \n",
            "\n",
            "`distplot` is a deprecated function and will be removed in seaborn v0.14.0.\n",
            "\n",
            "Please adapt your code to use either `displot` (a figure-level function with\n",
            "similar flexibility) or `histplot` (an axes-level function for histograms).\n",
            "\n",
            "For a guide to updating your code to use the new functions, please see\n",
            "https://gist.github.com/mwaskom/de44147ed2974457ad6372750bbe5751\n",
            "\n",
            "  sns.distplot(df['areakm'])\n"
          ]
        },
        {
          "output_type": "execute_result",
          "data": {
            "text/plain": [
              "<Axes: xlabel='areakm', ylabel='Density'>"
            ]
          },
          "metadata": {},
          "execution_count": 10
        },
        {
          "output_type": "display_data",
          "data": {
            "text/plain": [
              "<Figure size 640x480 with 1 Axes>"
            ],
            "image/png": "[encoded data removed]"
          },
          "metadata": {}
        }
      ],
      "source": [
        "sns.distplot(df['areakm'])"
      ]
    },
    {
      "cell_type": "code",
      "execution_count": 11,
      "id": "943bcfca",
      "metadata": {
        "colab": {
          "base_uri": "https://localhost:8080/",
          "height": 112
        },
        "id": "943bcfca",
        "outputId": "61cdb813-f04c-498c-ad1e-6e90f155cd3f"
      },
      "outputs": [
        {
          "output_type": "execute_result",
          "data": {
            "text/plain": [
              "            year    areakm\n",
              "year    1.000000 -0.200563\n",
              "areakm -0.200563  1.000000"
            ],
            "text/html": [
              "\n",
              "  <div id=\"df-73ee9ab7-38c4-4060-bcc5-a713c8351e71\">\n",
              "    <div class=\"colab-df-container\">\n",
              "      <div>\n",
              "<style scoped>\n",
              "    .dataframe tbody tr th:only-of-type {\n",
              "        vertical-align: middle;\n",
              "    }\n",
              "\n",
              "    .dataframe tbody tr th {\n",
              "        vertical-align: top;\n",
              "    }\n",
              "\n",
              "    .dataframe thead th {\n",
              "        text-align: right;\n",
              "    }\n",
              "</style>\n",
              "<table border=\"1\" class=\"dataframe\">\n",
              "  <thead>\n",
              "    <tr style=\"text-align: right;\">\n",
              "      <th></th>\n",
              "      <th>year</th>\n",
              "      <th>areakm</th>\n",
              "    </tr>\n",
              "  </thead>\n",
              "  <tbody>\n",
              "    <tr>\n",
              "      <th>year</th>\n",
              "      <td>1.000000</td>\n",
              "      <td>-0.200563</td>\n",
              "    </tr>\n",
              "    <tr>\n",
              "      <th>areakm</th>\n",
              "      <td>-0.200563</td>\n",
              "      <td>1.000000</td>\n",
              "    </tr>\n",
              "  </tbody>\n",
              "</table>\n",
              "</div>\n",
              "      <button class=\"colab-df-convert\" onclick=\"convertToInteractive('df-73ee9ab7-38c4-4060-bcc5-a713c8351e71')\"\n",
              "              title=\"Convert this dataframe to an interactive table.\"\n",
              "              style=\"display:none;\">\n",
              "        \n",
              "  <svg xmlns=\"http://www.w3.org/2000/svg\" height=\"24px\"viewBox=\"0 0 24 24\"\n",
              "       width=\"24px\">\n",
              "    <path d=\"M0 0h24v24H0V0z\" fill=\"none\"/>\n",
              "    <path d=\"M18.56 5.44l.94 2.06.94-2.06 2.06-.94-2.06-.94-.94-2.06-.94 2.06-2.06.94zm-11 1L8.5 8.5l.94-2.06 2.06-.94-2.06-.94L8.5 2.5l-.94 2.06-2.06.94zm10 10l.94 2.06.94-2.06 2.06-.94-2.06-.94-.94-2.06-.94 2.06-2.06.94z\"/><path d=\"M17.41 7.96l-1.37-1.37c-.4-.4-.92-.59-1.43-.59-.52 0-1.04.2-1.43.59L10.3 9.45l-7.72 7.72c-.78.78-.78 2.05 0 2.83L4 21.41c.39.39.9.59 1.41.59.51 0 1.02-.2 1.41-.59l7.78-7.78 2.81-2.81c.8-.78.8-2.07 0-2.86zM5.41 20L4 18.59l7.72-7.72 1.47 1.35L5.41 20z\"/>\n",
              "  </svg>\n",
              "      </button>\n",
              "      \n",
              "  <style>\n",
              "    .colab-df-container {\n",
              "      display:flex;\n",
              "      flex-wrap:wrap;\n",
              "      gap: 12px;\n",
              "    }\n",
              "\n",
              "    .colab-df-convert {\n",
              "      background-color: #E8F0FE;\n",
              "      border: none;\n",
              "      border-radius: 50%;\n",
              "      cursor: pointer;\n",
              "      display: none;\n",
              "      fill: #1967D2;\n",
              "      height: 32px;\n",
              "      padding: 0 0 0 0;\n",
              "      width: 32px;\n",
              "    }\n",
              "\n",
              "    .colab-df-convert:hover {\n",
              "      background-color: #E2EBFA;\n",
              "      box-shadow: 0px 1px 2px rgba(60, 64, 67, 0.3), 0px 1px 3px 1px rgba(60, 64, 67, 0.15);\n",
              "      fill: #174EA6;\n",
              "    }\n",
              "\n",
              "    [theme=dark] .colab-df-convert {\n",
              "      background-color: #3B4455;\n",
              "      fill: #D2E3FC;\n",
              "    }\n",
              "\n",
              "    [theme=dark] .colab-df-convert:hover {\n",
              "      background-color: #434B5C;\n",
              "      box-shadow: 0px 1px 3px 1px rgba(0, 0, 0, 0.15);\n",
              "      filter: drop-shadow(0px 1px 2px rgba(0, 0, 0, 0.3));\n",
              "      fill: #FFFFFF;\n",
              "    }\n",
              "  </style>\n",
              "\n",
              "      <script>\n",
              "        const buttonEl =\n",
              "          document.querySelector('#df-73ee9ab7-38c4-4060-bcc5-a713c8351e71 button.colab-df-convert');\n",
              "        buttonEl.style.display =\n",
              "          google.colab.kernel.accessAllowed ? 'block' : 'none';\n",
              "\n",
              "        async function convertToInteractive(key) {\n",
              "          const element = document.querySelector('#df-73ee9ab7-38c4-4060-bcc5-a713c8351e71');\n",
              "          const dataTable =\n",
              "            await google.colab.kernel.invokeFunction('convertToInteractive',\n",
              "                                                     [key], {});\n",
              "          if (!dataTable) return;\n",
              "\n",
              "          const docLinkHtml = 'Like what you see? Visit the ' +\n",
              "            '<a target=\"_blank\" href=https://colab.research.google.com/notebooks/data_table.ipynb>data table notebook</a>'\n",
              "            + ' to learn more about interactive tables.';\n",
              "          element.innerHTML = '';\n",
              "          dataTable['output_type'] = 'display_data';\n",
              "          await google.colab.output.renderOutput(dataTable, element);\n",
              "          const docLink = document.createElement('div');\n",
              "          docLink.innerHTML = docLinkHtml;\n",
              "          element.appendChild(docLink);\n",
              "        }\n",
              "      </script>\n",
              "    </div>\n",
              "  </div>\n",
              "  "
            ]
          },
          "metadata": {},
          "execution_count": 11
        }
      ],
      "source": [
        "df.corr()"
      ]
    },
    {
      "cell_type": "code",
      "execution_count": 12,
      "id": "3d64166e",
      "metadata": {
        "colab": {
          "base_uri": "https://localhost:8080/",
          "height": 435
        },
        "id": "3d64166e",
        "outputId": "42bc2d5c-29c5-4c5a-ed09-53c76f9f3277"
      },
      "outputs": [
        {
          "output_type": "display_data",
          "data": {
            "text/plain": [
              "<Figure size 640x480 with 2 Axes>"
            ],
            "image/png": "[encoded data removed]"
          },
          "metadata": {}
        }
      ],
      "source": [
        "sns.heatmap(df.corr(), vmin=-1, vmax=1, annot=True);"
      ]
    },
    {
      "cell_type": "markdown",
      "id": "dc0ae5b5",
      "metadata": {
        "id": "dc0ae5b5"
      },
      "source": [
        "The distribution of the area is skewed to the right"
      ]
    },
    {
      "cell_type": "markdown",
      "source": [
        "## 1.2: Total deforestration in forest regions by year"
      ],
      "metadata": {
        "id": "_fseEPdXdRuk"
      },
      "id": "_fseEPdXdRuk"
    },
    {
      "cell_type": "code",
      "execution_count": 13,
      "id": "be72c5cd",
      "metadata": {
        "colab": {
          "base_uri": "https://localhost:8080/"
        },
        "id": "be72c5cd",
        "outputId": "0b6df83b-b2b4-48e3-eabe-7b1324fd8f96"
      },
      "outputs": [
        {
          "output_type": "stream",
          "name": "stdout",
          "text": [
            "Shape: (110, 3)\n"
          ]
        },
        {
          "output_type": "stream",
          "name": "stderr",
          "text": [
            "<ipython-input-13-99058ef43e48>:11: FutureWarning: The pandas.np module is deprecated and will be removed from pandas in a future version. Import numpy directly instead.\n",
            "  area_by_region['year'] = area_by_region.year.astype(pd.np.float64)\n",
            "<ipython-input-13-99058ef43e48>:12: FutureWarning: The pandas.np module is deprecated and will be removed from pandas in a future version. Import numpy directly instead.\n",
            "  area_by_region['areakm'] = area_by_region.areakm.astype(pd.np.float64)\n"
          ]
        }
      ],
      "source": [
        "#Total area lost annualy in each forest region\n",
        "regions = df.region.unique()\n",
        "years = df.year.unique()\n",
        "area_by_region = pd.DataFrame(columns=['region', 'year', 'areakm'])\n",
        "i=0\n",
        "for reg in regions:\n",
        "    for yr in years:\n",
        "        res = round(df.loc[(df['region']==reg) & (df['year']==yr), 'areakm'].sum(), 3)\n",
        "        area_by_region.loc[i,:] = [reg, yr,res]\n",
        "        i = i+1\n",
        "area_by_region['year'] = area_by_region.year.astype(pd.np.float64)\n",
        "area_by_region['areakm'] = area_by_region.areakm.astype(pd.np.float64)\n",
        "\n",
        "#Print shape of the dataset\n",
        "print('Shape: {}'.format(area_by_region.shape))"
      ]
    },
    {
      "cell_type": "code",
      "execution_count": 15,
      "id": "9a987c29",
      "metadata": {
        "colab": {
          "base_uri": "https://localhost:8080/",
          "height": 432
        },
        "id": "9a987c29",
        "outputId": "2a99c516-7a37-41ef-b613-e3fb5b5f0204"
      },
      "outputs": [
        {
          "output_type": "display_data",
          "data": {
            "text/plain": [
              "<Figure size 640x480 with 1 Axes>"
            ],
            "image/png": "[encoded data removed]"
          },
          "metadata": {}
        }
      ],
      "source": [
        "#Plot total area of deforestration over the years by forest region\n",
        "import matplotlib.pyplot as plt\n",
        "%matplotlib inline\n",
        "\n",
        "line_1 = area_by_region.loc[area_by_region.region == 'pantanal'].sort_values(by='year')\n",
        "line_2 = area_by_region.loc[area_by_region.region == 'pampa'].sort_values(by='year')\n",
        "line_3 = area_by_region.loc[area_by_region.region == 'cerrado'].sort_values(by='year')\n",
        "line_4 = area_by_region.loc[area_by_region.region == 'mata_atlantica'].sort_values(by='year')\n",
        "line_5 = area_by_region.loc[area_by_region.region == 'caatinga'].sort_values(by='year')\n",
        "\n",
        "fig,ax = plt.subplots()\n",
        "\n",
        "ax.plot(line_1.year, line_1['areakm'], color='b')\n",
        "ax.plot(line_2.year, line_2['areakm'], color='g')\n",
        "ax.plot(line_3.year, line_3['areakm'], color='r')\n",
        "ax.plot(line_4.year, line_4['areakm'], color='y')\n",
        "ax.plot(line_5.year, line_5['areakm'], color='c')\n",
        "ax.legend(labels=['pantanal','pampa','cerrado','mata_atlantica','caatinga'])\n",
        "plt.show()"
      ]
    },
    {
      "cell_type": "markdown",
      "id": "966042b6",
      "metadata": {
        "id": "966042b6"
      },
      "source": [
        "## Section 2: Baseline Model"
      ]
    },
    {
      "cell_type": "markdown",
      "id": "704ad04c",
      "metadata": {
        "id": "704ad04c"
      },
      "source": [
        "### Linear Regression"
      ]
    },
    {
      "cell_type": "code",
      "execution_count": 16,
      "id": "484553e0",
      "metadata": {
        "id": "484553e0"
      },
      "outputs": [],
      "source": [
        "#One-Hot encoding of categorical variables\n",
        "new_df = pd.get_dummies(data=df, columns=['state', 'region'], drop_first=False)"
      ]
    },
    {
      "cell_type": "code",
      "execution_count": 17,
      "id": "e19b8246",
      "metadata": {
        "colab": {
          "base_uri": "https://localhost:8080/"
        },
        "id": "e19b8246",
        "outputId": "1dda4bd8-5e9f-419d-ee44-4f6bfe0dd009"
      },
      "outputs": [
        {
          "output_type": "stream",
          "name": "stdout",
          "text": [
            "Model ASE 0.483809\n"
          ]
        }
      ],
      "source": [
        "array = new_df.drop(labels='areakm', axis=1)\n",
        "x = array.values\n",
        "y = new_df['areakm'].values\n",
        "kf = KFold(n_splits=5, random_state=13, shuffle=True)\n",
        "model = LinearRegression()\n",
        "\n",
        "scores = cross_val_score(model, x, y, cv=kf, n_jobs=-1)\n",
        "\n",
        "#The mean accuracy\n",
        "print('Model ASE %3f' % scores.mean())"
      ]
    },
    {
      "cell_type": "markdown",
      "id": "0798ed71",
      "metadata": {
        "id": "0798ed71"
      },
      "source": [
        "The mean accuracy of the model is 0.48 which is really low. "
      ]
    },
    {
      "cell_type": "markdown",
      "id": "d5f1f51a",
      "metadata": {
        "id": "d5f1f51a"
      },
      "source": [
        "# Dataset 02"
      ]
    },
    {
      "cell_type": "markdown",
      "id": "5e2c5dd9",
      "metadata": {
        "id": "5e2c5dd9"
      },
      "source": [
        "## Section 1: EDA"
      ]
    },
    {
      "cell_type": "markdown",
      "id": "74c628a4",
      "metadata": {
        "id": "74c628a4"
      },
      "source": [
        "### 1.1 Descriptive statistics, information about the data, distribution of data"
      ]
    },
    {
      "cell_type": "code",
      "execution_count": 3,
      "id": "426195fe",
      "metadata": {
        "id": "426195fe"
      },
      "outputs": [],
      "source": [
        "file_name_2 = 'brazil_deforestration_by_state_formatted.csv'\n",
        "data=pd.read_csv(file_name_2)"
      ]
    },
    {
      "cell_type": "code",
      "execution_count": 4,
      "id": "7df9510f",
      "metadata": {
        "colab": {
          "base_uri": "https://localhost:8080/",
          "height": 224
        },
        "id": "7df9510f",
        "outputId": "6d0d820d-ed68-41c1-c4ae-1bcf308aec35"
      },
      "outputs": [
        {
          "output_type": "stream",
          "name": "stdout",
          "text": [
            "Shape: (6640, 5)\n"
          ]
        },
        {
          "output_type": "execute_result",
          "data": {
            "text/plain": [
              "   year       areakm municipality  geocode_ibge state\n",
              "0  2007  1005.901508   Acrelandia       1200013  Acre\n",
              "1  2008  1029.568595   Acrelandia       1200013  Acre\n",
              "2  2009  1042.506828   Acrelandia       1200013  Acre\n",
              "3  2010  1053.838906   Acrelandia       1200013  Acre\n",
              "4  2011  1069.777544   Acrelandia       1200013  Acre"
            ],
            "text/html": [
              "\n",
              "  <div id=\"df-d3992800-b529-42de-b476-74f312a0bc4f\">\n",
              "    <div class=\"colab-df-container\">\n",
              "      <div>\n",
              "<style scoped>\n",
              "    .dataframe tbody tr th:only-of-type {\n",
              "        vertical-align: middle;\n",
              "    }\n",
              "\n",
              "    .dataframe tbody tr th {\n",
              "        vertical-align: top;\n",
              "    }\n",
              "\n",
              "    .dataframe thead th {\n",
              "        text-align: right;\n",
              "    }\n",
              "</style>\n",
              "<table border=\"1\" class=\"dataframe\">\n",
              "  <thead>\n",
              "    <tr style=\"text-align: right;\">\n",
              "      <th></th>\n",
              "      <th>year</th>\n",
              "      <th>areakm</th>\n",
              "      <th>municipality</th>\n",
              "      <th>geocode_ibge</th>\n",
              "      <th>state</th>\n",
              "    </tr>\n",
              "  </thead>\n",
              "  <tbody>\n",
              "    <tr>\n",
              "      <th>0</th>\n",
              "      <td>2007</td>\n",
              "      <td>1005.901508</td>\n",
              "      <td>Acrelandia</td>\n",
              "      <td>1200013</td>\n",
              "      <td>Acre</td>\n",
              "    </tr>\n",
              "    <tr>\n",
              "      <th>1</th>\n",
              "      <td>2008</td>\n",
              "      <td>1029.568595</td>\n",
              "      <td>Acrelandia</td>\n",
              "      <td>1200013</td>\n",
              "      <td>Acre</td>\n",
              "    </tr>\n",
              "    <tr>\n",
              "      <th>2</th>\n",
              "      <td>2009</td>\n",
              "      <td>1042.506828</td>\n",
              "      <td>Acrelandia</td>\n",
              "      <td>1200013</td>\n",
              "      <td>Acre</td>\n",
              "    </tr>\n",
              "    <tr>\n",
              "      <th>3</th>\n",
              "      <td>2010</td>\n",
              "      <td>1053.838906</td>\n",
              "      <td>Acrelandia</td>\n",
              "      <td>1200013</td>\n",
              "      <td>Acre</td>\n",
              "    </tr>\n",
              "    <tr>\n",
              "      <th>4</th>\n",
              "      <td>2011</td>\n",
              "      <td>1069.777544</td>\n",
              "      <td>Acrelandia</td>\n",
              "      <td>1200013</td>\n",
              "      <td>Acre</td>\n",
              "    </tr>\n",
              "  </tbody>\n",
              "</table>\n",
              "</div>\n",
              "      <button class=\"colab-df-convert\" onclick=\"convertToInteractive('df-d3992800-b529-42de-b476-74f312a0bc4f')\"\n",
              "              title=\"Convert this dataframe to an interactive table.\"\n",
              "              style=\"display:none;\">\n",
              "        \n",
              "  <svg xmlns=\"http://www.w3.org/2000/svg\" height=\"24px\"viewBox=\"0 0 24 24\"\n",
              "       width=\"24px\">\n",
              "    <path d=\"M0 0h24v24H0V0z\" fill=\"none\"/>\n",
              "    <path d=\"M18.56 5.44l.94 2.06.94-2.06 2.06-.94-2.06-.94-.94-2.06-.94 2.06-2.06.94zm-11 1L8.5 8.5l.94-2.06 2.06-.94-2.06-.94L8.5 2.5l-.94 2.06-2.06.94zm10 10l.94 2.06.94-2.06 2.06-.94-2.06-.94-.94-2.06-.94 2.06-2.06.94z\"/><path d=\"M17.41 7.96l-1.37-1.37c-.4-.4-.92-.59-1.43-.59-.52 0-1.04.2-1.43.59L10.3 9.45l-7.72 7.72c-.78.78-.78 2.05 0 2.83L4 21.41c.39.39.9.59 1.41.59.51 0 1.02-.2 1.41-.59l7.78-7.78 2.81-2.81c.8-.78.8-2.07 0-2.86zM5.41 20L4 18.59l7.72-7.72 1.47 1.35L5.41 20z\"/>\n",
              "  </svg>\n",
              "      </button>\n",
              "      \n",
              "  <style>\n",
              "    .colab-df-container {\n",
              "      display:flex;\n",
              "      flex-wrap:wrap;\n",
              "      gap: 12px;\n",
              "    }\n",
              "\n",
              "    .colab-df-convert {\n",
              "      background-color: #E8F0FE;\n",
              "      border: none;\n",
              "      border-radius: 50%;\n",
              "      cursor: pointer;\n",
              "      display: none;\n",
              "      fill: #1967D2;\n",
              "      height: 32px;\n",
              "      padding: 0 0 0 0;\n",
              "      width: 32px;\n",
              "    }\n",
              "\n",
              "    .colab-df-convert:hover {\n",
              "      background-color: #E2EBFA;\n",
              "      box-shadow: 0px 1px 2px rgba(60, 64, 67, 0.3), 0px 1px 3px 1px rgba(60, 64, 67, 0.15);\n",
              "      fill: #174EA6;\n",
              "    }\n",
              "\n",
              "    [theme=dark] .colab-df-convert {\n",
              "      background-color: #3B4455;\n",
              "      fill: #D2E3FC;\n",
              "    }\n",
              "\n",
              "    [theme=dark] .colab-df-convert:hover {\n",
              "      background-color: #434B5C;\n",
              "      box-shadow: 0px 1px 3px 1px rgba(0, 0, 0, 0.15);\n",
              "      filter: drop-shadow(0px 1px 2px rgba(0, 0, 0, 0.3));\n",
              "      fill: #FFFFFF;\n",
              "    }\n",
              "  </style>\n",
              "\n",
              "      <script>\n",
              "        const buttonEl =\n",
              "          document.querySelector('#df-d3992800-b529-42de-b476-74f312a0bc4f button.colab-df-convert');\n",
              "        buttonEl.style.display =\n",
              "          google.colab.kernel.accessAllowed ? 'block' : 'none';\n",
              "\n",
              "        async function convertToInteractive(key) {\n",
              "          const element = document.querySelector('#df-d3992800-b529-42de-b476-74f312a0bc4f');\n",
              "          const dataTable =\n",
              "            await google.colab.kernel.invokeFunction('convertToInteractive',\n",
              "                                                     [key], {});\n",
              "          if (!dataTable) return;\n",
              "\n",
              "          const docLinkHtml = 'Like what you see? Visit the ' +\n",
              "            '<a target=\"_blank\" href=https://colab.research.google.com/notebooks/data_table.ipynb>data table notebook</a>'\n",
              "            + ' to learn more about interactive tables.';\n",
              "          element.innerHTML = '';\n",
              "          dataTable['output_type'] = 'display_data';\n",
              "          await google.colab.output.renderOutput(dataTable, element);\n",
              "          const docLink = document.createElement('div');\n",
              "          docLink.innerHTML = docLinkHtml;\n",
              "          element.appendChild(docLink);\n",
              "        }\n",
              "      </script>\n",
              "    </div>\n",
              "  </div>\n",
              "  "
            ]
          },
          "metadata": {},
          "execution_count": 4
        }
      ],
      "source": [
        "#Print shape of the dataset\n",
        "print('Shape: {}'.format(data.shape))\n",
        "\n",
        "#Print first 10 rows of the dataset\n",
        "data.head(5)"
      ]
    },
    {
      "cell_type": "code",
      "execution_count": 5,
      "id": "658c6aa5",
      "metadata": {
        "id": "658c6aa5"
      },
      "outputs": [],
      "source": [
        "#Remove geocode_ibge columns\n",
        "data = data.drop(columns=['geocode_ibge'])"
      ]
    },
    {
      "cell_type": "markdown",
      "id": "aa7b1804",
      "metadata": {
        "id": "aa7b1804"
      },
      "source": [
        "What are the names of all the municipalities and how many are there?"
      ]
    },
    {
      "cell_type": "code",
      "execution_count": 6,
      "id": "f7d98e88",
      "metadata": {
        "colab": {
          "base_uri": "https://localhost:8080/"
        },
        "id": "f7d98e88",
        "outputId": "6b59f34e-46a4-4b76-e57e-9bf5ea9d5952"
      },
      "outputs": [
        {
          "output_type": "execute_result",
          "data": {
            "text/plain": [
              "array(['Acrelandia', 'Assis Brasil', 'Brasileia', 'Bujari', 'Capixaba',\n",
              "       'Cruzeiro do Sul', 'Epitaciolandia', 'Feijo', 'Jordao',\n",
              "       'Mancio Lima', 'Manoel Urbano', 'Marechal Thaumaturgo',\n",
              "       'Placido de Castro', 'Porto Acre', 'Porto Walter', 'Rio Branco',\n",
              "       'Rodrigues Alves', 'Santa Rosa do Purus', 'Sena Madureira',\n",
              "       'Senador Guiomard', 'Tarauaca', 'Xapuri', 'Amapa', 'Calcoene',\n",
              "       'Cutias', 'Ferreira Gomes', 'Itaubal', 'Laranjal do Jari',\n",
              "       'Macapa', 'Mazagao', 'Oiapoque', 'Pedra Branca do Amapari',\n",
              "       'Porto Grande', 'Pracuuba', 'Santana', 'Serra do Navio',\n",
              "       'Tartarugalzinho', 'Vitoria do Jari', 'Alvaraes', 'Amatura',\n",
              "       'Anama', 'Anori', 'Apui', 'Atalaia do Norte', 'Autazes',\n",
              "       'Barcelos', 'Barreirinha', 'Benjamin Constant', 'Beruri',\n",
              "       'Boa Vista do Ramos', 'Boca do Acre', 'Borba', 'Caapiranga',\n",
              "       'Canutama', 'Carauari', 'Careiro', 'Careiro da Varzea', 'Coari',\n",
              "       'Codajas', 'Eirunepe', 'Envira', 'Fonte Boa', 'Guajara', 'Humaita',\n",
              "       'Ipixuna', 'Iranduba', 'Itacoatiara', 'Itamarati', 'Itapiranga',\n",
              "       'Japura', 'Jurua', 'Jutai', 'Labrea', 'Manacapuru', 'Manaquiri',\n",
              "       'Manaus', 'Manicore', 'Maraa', 'Maues', 'Nhamunda',\n",
              "       'Nova Olinda do Norte', 'Novo Airao', 'Novo Aripuana', 'Parintins',\n",
              "       'Pauini', 'Presidente Figueiredo', 'Rio Preto da Eva',\n",
              "       'Santa Isabel do Rio Negro', 'Santo Antonio do Ica',\n",
              "       'Sao Gabriel da Cachoeira', 'Sao Paulo de Olivenca',\n",
              "       'Sao Sebastiao do Uatuma', 'Silves', 'Tabatinga', 'Tapaua', 'Tefe',\n",
              "       'Tonantins', 'Uarini', 'Urucara', 'Urucurituba', 'Acailandia',\n",
              "       'Alcantara', 'Altamira do Maranhao', 'Alto Alegre do Pindare',\n",
              "       'Amapa do Maranhao', 'Amarante do Maranhao', 'Anajatuba',\n",
              "       'Apicum-Acu', 'Araguana', 'Arame', 'Arari', 'Axixa', 'Bacabal',\n",
              "       'Bacabeira', 'Bacuri', 'Bacurituba', 'Bela Vista do Maranhao',\n",
              "       'Bequimao', 'Boa Vista do Gurupi', 'Bom Jardim',\n",
              "       'Bom Jesus das Selvas', 'Bom Lugar', 'Brejo de Areia',\n",
              "       'Buriticupu', 'Buritirana', 'Cachoeira Grande', 'Cajapio',\n",
              "       'Cajari', 'Candido Mendes', 'Carutapera', 'Cedral',\n",
              "       'Central do Maranhao', 'Centro Novo do Maranhao',\n",
              "       'Centro do Guilherme', 'Cidelandia', 'Conceicao do Lago-Acu',\n",
              "       'Cururupu', 'Godofredo Viana', 'Governador Newton Bello',\n",
              "       'Governador Nunes Freire', 'Grajau', 'Guimaraes',\n",
              "       'Humberto de Campos', 'Icatu', 'Igarape do Meio', 'Imperatriz',\n",
              "       'Itaipava do Grajau', 'Itapecuru Mirim', 'Itinga do Maranhao',\n",
              "       'Joao Lisboa', 'Junco do Maranhao', 'Lago Verde', 'Lago da Pedra',\n",
              "       'Lago do Junco', 'Lago dos Rodrigues', 'Luis Domingues',\n",
              "       'Maracacume', 'Maraja do Sena', 'Maranhaozinho', 'Matinha',\n",
              "       'Matoes do Norte', 'Miranda do Norte', 'Mirinzal', 'Moncao',\n",
              "       'Morros', 'Nina Rodrigues', 'Nova Olinda do Maranhao',\n",
              "       \"Olho d'Agua das Cunhas\", 'Olinda Nova do Maranhao',\n",
              "       'Paco do Lumiar', 'Palmeirandia', 'Paulo Ramos',\n",
              "       'Pedro do Rosario', 'Penalva', 'Peri Mirim', 'Pindare-Mirim',\n",
              "       'Pinheiro', 'Pio XII', 'Porto Rico do Maranhao',\n",
              "       'Presidente Juscelino', 'Presidente Medici', 'Presidente Sarney',\n",
              "       'Presidente Vargas', 'Primeira Cruz', 'Raposa', 'Rosario',\n",
              "       'Santa Helena', 'Santa Ines', 'Santa Luzia',\n",
              "       'Santa Luzia do Parua', 'Santa Rita', 'Sao Bento',\n",
              "       'Sao Francisco do Brejao', 'Sao Joao Batista', 'Sao Joao do Caru',\n",
              "       'Sao Jose de Ribamar', 'Sao Luis', 'Sao Luis Gonzaga do Maranhao',\n",
              "       'Sao Mateus do Maranhao', 'Sao Pedro da Agua Branca',\n",
              "       'Sao Vicente Ferrer', 'Satubinha', 'Senador La Rocque',\n",
              "       'Serrano do Maranhao', 'Tufilandia', 'Turiacu', 'Turilandia',\n",
              "       'Viana', 'Vila Nova dos Martirios', 'Vitoria do Mearim',\n",
              "       'Vitorino Freire', 'Ze Doca', 'Agua Boa', 'Alta Floresta',\n",
              "       'Alto Boa Vista', 'Alto Paraguai', 'Apiacas', 'Araputanga',\n",
              "       'Arenapolis', 'Aripuana', 'Barra do Bugres',\n",
              "       'Bom Jesus do Araguaia', 'Brasnorte', 'Caceres', 'Campinapolis',\n",
              "       'Campo Novo do Parecis', 'Canabrava do Norte', 'Canarana',\n",
              "       'Carlinda', 'Castanheira', 'Claudia', 'Colider', 'Colniza',\n",
              "       'Comodoro', 'Confresa', \"Conquista D'Oeste\", 'Cotriguacu',\n",
              "       'Curvelandia', 'Denise', 'Diamantino', 'Feliz Natal',\n",
              "       \"Figueiropolis D'Oeste\", 'Gaucha do Norte', \"Gloria D'Oeste\",\n",
              "       'Guaranta do Norte', 'Indiavai', 'Ipiranga do Norte', 'Itanhanga',\n",
              "       'Itauba', 'Jauru', 'Juara', 'Juina', 'Juruena', \"Lambari D'Oeste\",\n",
              "       'Lucas do Rio Verde', 'Luciara', 'Marcelandia', 'Matupa',\n",
              "       \"Mirassol d'Oeste\", 'Nortelandia', 'Nova Bandeirantes',\n",
              "       'Nova Canaa do Norte', 'Nova Guarita', 'Nova Lacerda',\n",
              "       'Nova Marilandia', 'Nova Maringa', 'Nova Monte Verde',\n",
              "       'Nova Mutum', 'Nova Olimpia', 'Nova Santa Helena', 'Nova Ubirata',\n",
              "       'Novo Horizonte do Norte', 'Novo Mundo', 'Novo Santo Antonio',\n",
              "       'Paranaita', 'Paranatinga', 'Peixoto de Azevedo',\n",
              "       'Pontes e Lacerda', 'Porto Alegre do Norte', 'Porto Esperidiao',\n",
              "       'Porto Estrela', 'Porto dos Gauchos', 'Querencia',\n",
              "       'Reserva do Cabacal', 'Ribeirao Cascalheira', 'Rondolandia',\n",
              "       'Salto do Ceu', 'Santa Carmem', 'Santa Cruz do Xingu',\n",
              "       'Santa Terezinha', 'Santo Afonso', 'Sao Felix do Araguaia',\n",
              "       'Sao Jose do Rio Claro', 'Sao Jose do Xingu',\n",
              "       'Sao Jose dos Quatro Marcos', 'Sapezal', 'Serra Nova Dourada',\n",
              "       'Sinop', 'Sorriso', 'Tabapora', 'Tangara da Serra', 'Tapurah',\n",
              "       'Terra Nova do Norte', 'Uniao do Sul', 'Vale de Sao Domingos',\n",
              "       'Vera', 'Vila Bela da Santissima Trindade', 'Vila Rica',\n",
              "       \"Alta Floresta D'Oeste\", 'Alto Alegre dos Parecis', 'Alto Paraiso',\n",
              "       \"Alvorada D'Oeste\", 'Ariquemes', 'Buritis', 'Cabixi',\n",
              "       'Cacaulandia', 'Cacoal', 'Campo Novo de Rondonia',\n",
              "       'Candeias do Jamari', 'Castanheiras', 'Cerejeiras', 'Chupinguaia',\n",
              "       'Colorado do Oeste', 'Corumbiara', 'Costa Marques', 'Cujubim',\n",
              "       \"Espigao D'Oeste\", 'Governador Jorge Teixeira', 'Guajara-Mirim',\n",
              "       'Itapua do Oeste', 'Jaru', 'Ji-Parana', \"Machadinho D'Oeste\",\n",
              "       'Ministro Andreazza', 'Mirante da Serra', 'Monte Negro',\n",
              "       \"Nova Brasilandia D'Oeste\", 'Nova Mamore', 'Nova Uniao',\n",
              "       'Novo Horizonte do Oeste', 'Ouro Preto do Oeste', 'Parecis',\n",
              "       'Pimenta Bueno', 'Pimenteiras do Oeste', 'Porto Velho',\n",
              "       'Primavera de Rondonia', 'Rio Crespo', 'Rolim de Moura',\n",
              "       \"Santa Luzia D'Oeste\", \"Sao Felipe D'Oeste\",\n",
              "       'Sao Francisco do Guapore', 'Sao Miguel do Guapore',\n",
              "       'Seringueiras', 'Teixeiropolis', 'Theobroma', 'Urupa',\n",
              "       'Vale do Anari', 'Vale do Paraiso', 'Vilhena', 'Alto Alegre',\n",
              "       'Amajari', 'Boa Vista', 'Bonfim', 'Canta', 'Caracarai', 'Caroebe',\n",
              "       'Iracema', 'Mucajai', 'Normandia', 'Pacaraima', 'Rorainopolis',\n",
              "       'Sao Joao da Baliza', 'Sao Luiz', 'Uiramuta', 'Ananas', 'Angico',\n",
              "       'Aragominas', 'Araguaina', 'Araguatins', 'Arapoema',\n",
              "       'Augustinopolis', 'Bandeirantes do Tocantins', 'Bernardo Sayao',\n",
              "       'Brasilandia do Tocantins', 'Buriti do Tocantins', 'Carmolandia',\n",
              "       'Carrasco Bonito', 'Colinas do Tocantins', 'Colmeia',\n",
              "       'Couto Magalhaes', 'Darcinopolis', 'Dois Irmaos do Tocantins',\n",
              "       'Esperantina', 'Goianorte', 'Guarai', 'Itapora do Tocantins',\n",
              "       'Juarina', 'Miranorte', 'Muricilandia', 'Nova Olinda',\n",
              "       \"Pau D'Arco\", 'Pequizeiro', 'Piraque', 'Presidente Kennedy',\n",
              "       'Riachinho', 'Sampaio', 'Santa Fe do Araguaia',\n",
              "       'Sao Bento do Tocantins', 'Sao Sebastiao do Tocantins', 'Tabocao',\n",
              "       'Wanderlandia', 'Xambioa'], dtype=object)"
            ]
          },
          "metadata": {},
          "execution_count": 6
        }
      ],
      "source": [
        "data['municipality'].unique()"
      ]
    },
    {
      "cell_type": "code",
      "execution_count": 7,
      "id": "d1ba2826",
      "metadata": {
        "colab": {
          "base_uri": "https://localhost:8080/"
        },
        "id": "d1ba2826",
        "outputId": "6e51a863-a72c-4bb8-903e-16b2f0bc697c"
      },
      "outputs": [
        {
          "output_type": "execute_result",
          "data": {
            "text/plain": [
              "412"
            ]
          },
          "metadata": {},
          "execution_count": 7
        }
      ],
      "source": [
        "data['municipality'].nunique()"
      ]
    },
    {
      "cell_type": "markdown",
      "id": "ebe69024",
      "metadata": {
        "id": "ebe69024"
      },
      "source": [
        "There are 412 unique municipalities which are listed above."
      ]
    },
    {
      "cell_type": "markdown",
      "id": "7b6ce5f3",
      "metadata": {
        "id": "7b6ce5f3"
      },
      "source": [
        "What are the names of all the states and how many are there?"
      ]
    },
    {
      "cell_type": "code",
      "execution_count": 8,
      "id": "74b41ab4",
      "metadata": {
        "colab": {
          "base_uri": "https://localhost:8080/"
        },
        "id": "74b41ab4",
        "outputId": "2660ab05-e256-4f8c-d7f8-021373155f43"
      },
      "outputs": [
        {
          "output_type": "execute_result",
          "data": {
            "text/plain": [
              "array(['Acre', 'Amapa', 'Amazonas', 'Maranhao', 'Mato Grosso', 'Rondonia',\n",
              "       'Roraima', 'Tocantins'], dtype=object)"
            ]
          },
          "metadata": {},
          "execution_count": 8
        }
      ],
      "source": [
        "data['state'].unique()"
      ]
    },
    {
      "cell_type": "code",
      "execution_count": 9,
      "id": "40084ca4",
      "metadata": {
        "colab": {
          "base_uri": "https://localhost:8080/"
        },
        "id": "40084ca4",
        "outputId": "bdf241d0-146e-4d88-ec8a-150acdcd8d4d"
      },
      "outputs": [
        {
          "output_type": "execute_result",
          "data": {
            "text/plain": [
              "8"
            ]
          },
          "metadata": {},
          "execution_count": 9
        }
      ],
      "source": [
        "data['state'].nunique()"
      ]
    },
    {
      "cell_type": "markdown",
      "id": "f88b4020",
      "metadata": {
        "id": "f88b4020"
      },
      "source": [
        "There are 8 different states which are listed above."
      ]
    },
    {
      "cell_type": "markdown",
      "id": "7605e83d",
      "metadata": {
        "id": "7605e83d"
      },
      "source": [
        "Sort the data by year (ascending)"
      ]
    },
    {
      "cell_type": "code",
      "execution_count": 10,
      "id": "4b82c06e",
      "metadata": {
        "colab": {
          "base_uri": "https://localhost:8080/",
          "height": 423
        },
        "id": "4b82c06e",
        "outputId": "c66f53be-0aab-4f9f-b476-e1d036dcb30d"
      },
      "outputs": [
        {
          "output_type": "execute_result",
          "data": {
            "text/plain": [
              "      year       areakm            municipality        state\n",
              "0     2007  1005.901508              Acrelandia         Acre\n",
              "2704  2007    68.882225          Paco do Lumiar     Maranhao\n",
              "4528  2007   150.828449      Reserva do Cabacal  Mato Grosso\n",
              "4064  2007   237.488863      Lucas do Rio Verde  Mato Grosso\n",
              "5200  2007  1486.386657           Costa Marques     Rondonia\n",
              "...    ...          ...                     ...          ...\n",
              "4767  2022   342.400689      Serra Nova Dourada  Mato Grosso\n",
              "1663  2022  1800.440157  Alto Alegre do Pindare     Maranhao\n",
              "4783  2022  2643.463789                   Sinop  Mato Grosso\n",
              "6223  2022   307.013326             Carmolandia    Tocantins\n",
              "6639  2022  1001.044093                 Xambioa    Tocantins\n",
              "\n",
              "[6640 rows x 4 columns]"
            ],
            "text/html": [
              "\n",
              "  <div id=\"df-4f2025b0-438e-459b-b7f4-83f9eabb7673\">\n",
              "    <div class=\"colab-df-container\">\n",
              "      <div>\n",
              "<style scoped>\n",
              "    .dataframe tbody tr th:only-of-type {\n",
              "        vertical-align: middle;\n",
              "    }\n",
              "\n",
              "    .dataframe tbody tr th {\n",
              "        vertical-align: top;\n",
              "    }\n",
              "\n",
              "    .dataframe thead th {\n",
              "        text-align: right;\n",
              "    }\n",
              "</style>\n",
              "<table border=\"1\" class=\"dataframe\">\n",
              "  <thead>\n",
              "    <tr style=\"text-align: right;\">\n",
              "      <th></th>\n",
              "      <th>year</th>\n",
              "      <th>areakm</th>\n",
              "      <th>municipality</th>\n",
              "      <th>state</th>\n",
              "    </tr>\n",
              "  </thead>\n",
              "  <tbody>\n",
              "    <tr>\n",
              "      <th>0</th>\n",
              "      <td>2007</td>\n",
              "      <td>1005.901508</td>\n",
              "      <td>Acrelandia</td>\n",
              "      <td>Acre</td>\n",
              "    </tr>\n",
              "    <tr>\n",
              "      <th>2704</th>\n",
              "      <td>2007</td>\n",
              "      <td>68.882225</td>\n",
              "      <td>Paco do Lumiar</td>\n",
              "      <td>Maranhao</td>\n",
              "    </tr>\n",
              "    <tr>\n",
              "      <th>4528</th>\n",
              "      <td>2007</td>\n",
              "      <td>150.828449</td>\n",
              "      <td>Reserva do Cabacal</td>\n",
              "      <td>Mato Grosso</td>\n",
              "    </tr>\n",
              "    <tr>\n",
              "      <th>4064</th>\n",
              "      <td>2007</td>\n",
              "      <td>237.488863</td>\n",
              "      <td>Lucas do Rio Verde</td>\n",
              "      <td>Mato Grosso</td>\n",
              "    </tr>\n",
              "    <tr>\n",
              "      <th>5200</th>\n",
              "      <td>2007</td>\n",
              "      <td>1486.386657</td>\n",
              "      <td>Costa Marques</td>\n",
              "      <td>Rondonia</td>\n",
              "    </tr>\n",
              "    <tr>\n",
              "      <th>...</th>\n",
              "      <td>...</td>\n",
              "      <td>...</td>\n",
              "      <td>...</td>\n",
              "      <td>...</td>\n",
              "    </tr>\n",
              "    <tr>\n",
              "      <th>4767</th>\n",
              "      <td>2022</td>\n",
              "      <td>342.400689</td>\n",
              "      <td>Serra Nova Dourada</td>\n",
              "      <td>Mato Grosso</td>\n",
              "    </tr>\n",
              "    <tr>\n",
              "      <th>1663</th>\n",
              "      <td>2022</td>\n",
              "      <td>1800.440157</td>\n",
              "      <td>Alto Alegre do Pindare</td>\n",
              "      <td>Maranhao</td>\n",
              "    </tr>\n",
              "    <tr>\n",
              "      <th>4783</th>\n",
              "      <td>2022</td>\n",
              "      <td>2643.463789</td>\n",
              "      <td>Sinop</td>\n",
              "      <td>Mato Grosso</td>\n",
              "    </tr>\n",
              "    <tr>\n",
              "      <th>6223</th>\n",
              "      <td>2022</td>\n",
              "      <td>307.013326</td>\n",
              "      <td>Carmolandia</td>\n",
              "      <td>Tocantins</td>\n",
              "    </tr>\n",
              "    <tr>\n",
              "      <th>6639</th>\n",
              "      <td>2022</td>\n",
              "      <td>1001.044093</td>\n",
              "      <td>Xambioa</td>\n",
              "      <td>Tocantins</td>\n",
              "    </tr>\n",
              "  </tbody>\n",
              "</table>\n",
              "<p>6640 rows × 4 columns</p>\n",
              "</div>\n",
              "      <button class=\"colab-df-convert\" onclick=\"convertToInteractive('df-4f2025b0-438e-459b-b7f4-83f9eabb7673')\"\n",
              "              title=\"Convert this dataframe to an interactive table.\"\n",
              "              style=\"display:none;\">\n",
              "        \n",
              "  <svg xmlns=\"http://www.w3.org/2000/svg\" height=\"24px\"viewBox=\"0 0 24 24\"\n",
              "       width=\"24px\">\n",
              "    <path d=\"M0 0h24v24H0V0z\" fill=\"none\"/>\n",
              "    <path d=\"M18.56 5.44l.94 2.06.94-2.06 2.06-.94-2.06-.94-.94-2.06-.94 2.06-2.06.94zm-11 1L8.5 8.5l.94-2.06 2.06-.94-2.06-.94L8.5 2.5l-.94 2.06-2.06.94zm10 10l.94 2.06.94-2.06 2.06-.94-2.06-.94-.94-2.06-.94 2.06-2.06.94z\"/><path d=\"M17.41 7.96l-1.37-1.37c-.4-.4-.92-.59-1.43-.59-.52 0-1.04.2-1.43.59L10.3 9.45l-7.72 7.72c-.78.78-.78 2.05 0 2.83L4 21.41c.39.39.9.59 1.41.59.51 0 1.02-.2 1.41-.59l7.78-7.78 2.81-2.81c.8-.78.8-2.07 0-2.86zM5.41 20L4 18.59l7.72-7.72 1.47 1.35L5.41 20z\"/>\n",
              "  </svg>\n",
              "      </button>\n",
              "      \n",
              "  <style>\n",
              "    .colab-df-container {\n",
              "      display:flex;\n",
              "      flex-wrap:wrap;\n",
              "      gap: 12px;\n",
              "    }\n",
              "\n",
              "    .colab-df-convert {\n",
              "      background-color: #E8F0FE;\n",
              "      border: none;\n",
              "      border-radius: 50%;\n",
              "      cursor: pointer;\n",
              "      display: none;\n",
              "      fill: #1967D2;\n",
              "      height: 32px;\n",
              "      padding: 0 0 0 0;\n",
              "      width: 32px;\n",
              "    }\n",
              "\n",
              "    .colab-df-convert:hover {\n",
              "      background-color: #E2EBFA;\n",
              "      box-shadow: 0px 1px 2px rgba(60, 64, 67, 0.3), 0px 1px 3px 1px rgba(60, 64, 67, 0.15);\n",
              "      fill: #174EA6;\n",
              "    }\n",
              "\n",
              "    [theme=dark] .colab-df-convert {\n",
              "      background-color: #3B4455;\n",
              "      fill: #D2E3FC;\n",
              "    }\n",
              "\n",
              "    [theme=dark] .colab-df-convert:hover {\n",
              "      background-color: #434B5C;\n",
              "      box-shadow: 0px 1px 3px 1px rgba(0, 0, 0, 0.15);\n",
              "      filter: drop-shadow(0px 1px 2px rgba(0, 0, 0, 0.3));\n",
              "      fill: #FFFFFF;\n",
              "    }\n",
              "  </style>\n",
              "\n",
              "      <script>\n",
              "        const buttonEl =\n",
              "          document.querySelector('#df-4f2025b0-438e-459b-b7f4-83f9eabb7673 button.colab-df-convert');\n",
              "        buttonEl.style.display =\n",
              "          google.colab.kernel.accessAllowed ? 'block' : 'none';\n",
              "\n",
              "        async function convertToInteractive(key) {\n",
              "          const element = document.querySelector('#df-4f2025b0-438e-459b-b7f4-83f9eabb7673');\n",
              "          const dataTable =\n",
              "            await google.colab.kernel.invokeFunction('convertToInteractive',\n",
              "                                                     [key], {});\n",
              "          if (!dataTable) return;\n",
              "\n",
              "          const docLinkHtml = 'Like what you see? Visit the ' +\n",
              "            '<a target=\"_blank\" href=https://colab.research.google.com/notebooks/data_table.ipynb>data table notebook</a>'\n",
              "            + ' to learn more about interactive tables.';\n",
              "          element.innerHTML = '';\n",
              "          dataTable['output_type'] = 'display_data';\n",
              "          await google.colab.output.renderOutput(dataTable, element);\n",
              "          const docLink = document.createElement('div');\n",
              "          docLink.innerHTML = docLinkHtml;\n",
              "          element.appendChild(docLink);\n",
              "        }\n",
              "      </script>\n",
              "    </div>\n",
              "  </div>\n",
              "  "
            ]
          },
          "metadata": {},
          "execution_count": 10
        }
      ],
      "source": [
        "data.sort_values(by=['year'])"
      ]
    },
    {
      "cell_type": "code",
      "execution_count": 11,
      "id": "3bde718a",
      "metadata": {
        "colab": {
          "base_uri": "https://localhost:8080/",
          "height": 448
        },
        "id": "3bde718a",
        "outputId": "86d355b8-0feb-41b5-b71c-a12c60bd6c43"
      },
      "outputs": [
        {
          "output_type": "execute_result",
          "data": {
            "text/plain": [
              "<Axes: >"
            ]
          },
          "metadata": {},
          "execution_count": 11
        },
        {
          "output_type": "display_data",
          "data": {
            "text/plain": [
              "<Figure size 640x480 with 1 Axes>"
            ],
            "image/png": "[encoded data removed]"
          },
          "metadata": {}
        }
      ],
      "source": [
        "data.boxplot(column='areakm')"
      ]
    },
    {
      "cell_type": "code",
      "execution_count": 12,
      "id": "ff69ac62",
      "metadata": {
        "colab": {
          "base_uri": "https://localhost:8080/",
          "height": 668
        },
        "id": "ff69ac62",
        "outputId": "a8bd4337-1d4d-4857-ac13-1e0e58849451"
      },
      "outputs": [
        {
          "output_type": "stream",
          "name": "stderr",
          "text": [
            "<ipython-input-12-5d8efa538ca8>:1: UserWarning: \n",
            "\n",
            "`distplot` is a deprecated function and will be removed in seaborn v0.14.0.\n",
            "\n",
            "Please adapt your code to use either `displot` (a figure-level function with\n",
            "similar flexibility) or `histplot` (an axes-level function for histograms).\n",
            "\n",
            "For a guide to updating your code to use the new functions, please see\n",
            "https://gist.github.com/mwaskom/de44147ed2974457ad6372750bbe5751\n",
            "\n",
            "  sns.distplot(data['areakm'])\n"
          ]
        },
        {
          "output_type": "execute_result",
          "data": {
            "text/plain": [
              "<Axes: xlabel='areakm', ylabel='Density'>"
            ]
          },
          "metadata": {},
          "execution_count": 12
        },
        {
          "output_type": "display_data",
          "data": {
            "text/plain": [
              "<Figure size 640x480 with 1 Axes>"
            ],
            "image/png": "[encoded data removed]"
          },
          "metadata": {}
        }
      ],
      "source": [
        "sns.distplot(data['areakm'])"
      ]
    },
    {
      "cell_type": "code",
      "execution_count": 13,
      "id": "b570486f",
      "metadata": {
        "colab": {
          "base_uri": "https://localhost:8080/",
          "height": 112
        },
        "id": "b570486f",
        "outputId": "3a724695-9b81-4e15-cdc1-76e923c80be3"
      },
      "outputs": [
        {
          "output_type": "execute_result",
          "data": {
            "text/plain": [
              "            year    areakm\n",
              "year    1.000000  0.037619\n",
              "areakm  0.037619  1.000000"
            ],
            "text/html": [
              "\n",
              "  <div id=\"df-33bffdc4-4d05-4100-ba15-d751dfeda4d0\">\n",
              "    <div class=\"colab-df-container\">\n",
              "      <div>\n",
              "<style scoped>\n",
              "    .dataframe tbody tr th:only-of-type {\n",
              "        vertical-align: middle;\n",
              "    }\n",
              "\n",
              "    .dataframe tbody tr th {\n",
              "        vertical-align: top;\n",
              "    }\n",
              "\n",
              "    .dataframe thead th {\n",
              "        text-align: right;\n",
              "    }\n",
              "</style>\n",
              "<table border=\"1\" class=\"dataframe\">\n",
              "  <thead>\n",
              "    <tr style=\"text-align: right;\">\n",
              "      <th></th>\n",
              "      <th>year</th>\n",
              "      <th>areakm</th>\n",
              "    </tr>\n",
              "  </thead>\n",
              "  <tbody>\n",
              "    <tr>\n",
              "      <th>year</th>\n",
              "      <td>1.000000</td>\n",
              "      <td>0.037619</td>\n",
              "    </tr>\n",
              "    <tr>\n",
              "      <th>areakm</th>\n",
              "      <td>0.037619</td>\n",
              "      <td>1.000000</td>\n",
              "    </tr>\n",
              "  </tbody>\n",
              "</table>\n",
              "</div>\n",
              "      <button class=\"colab-df-convert\" onclick=\"convertToInteractive('df-33bffdc4-4d05-4100-ba15-d751dfeda4d0')\"\n",
              "              title=\"Convert this dataframe to an interactive table.\"\n",
              "              style=\"display:none;\">\n",
              "        \n",
              "  <svg xmlns=\"http://www.w3.org/2000/svg\" height=\"24px\"viewBox=\"0 0 24 24\"\n",
              "       width=\"24px\">\n",
              "    <path d=\"M0 0h24v24H0V0z\" fill=\"none\"/>\n",
              "    <path d=\"M18.56 5.44l.94 2.06.94-2.06 2.06-.94-2.06-.94-.94-2.06-.94 2.06-2.06.94zm-11 1L8.5 8.5l.94-2.06 2.06-.94-2.06-.94L8.5 2.5l-.94 2.06-2.06.94zm10 10l.94 2.06.94-2.06 2.06-.94-2.06-.94-.94-2.06-.94 2.06-2.06.94z\"/><path d=\"M17.41 7.96l-1.37-1.37c-.4-.4-.92-.59-1.43-.59-.52 0-1.04.2-1.43.59L10.3 9.45l-7.72 7.72c-.78.78-.78 2.05 0 2.83L4 21.41c.39.39.9.59 1.41.59.51 0 1.02-.2 1.41-.59l7.78-7.78 2.81-2.81c.8-.78.8-2.07 0-2.86zM5.41 20L4 18.59l7.72-7.72 1.47 1.35L5.41 20z\"/>\n",
              "  </svg>\n",
              "      </button>\n",
              "      \n",
              "  <style>\n",
              "    .colab-df-container {\n",
              "      display:flex;\n",
              "      flex-wrap:wrap;\n",
              "      gap: 12px;\n",
              "    }\n",
              "\n",
              "    .colab-df-convert {\n",
              "      background-color: #E8F0FE;\n",
              "      border: none;\n",
              "      border-radius: 50%;\n",
              "      cursor: pointer;\n",
              "      display: none;\n",
              "      fill: #1967D2;\n",
              "      height: 32px;\n",
              "      padding: 0 0 0 0;\n",
              "      width: 32px;\n",
              "    }\n",
              "\n",
              "    .colab-df-convert:hover {\n",
              "      background-color: #E2EBFA;\n",
              "      box-shadow: 0px 1px 2px rgba(60, 64, 67, 0.3), 0px 1px 3px 1px rgba(60, 64, 67, 0.15);\n",
              "      fill: #174EA6;\n",
              "    }\n",
              "\n",
              "    [theme=dark] .colab-df-convert {\n",
              "      background-color: #3B4455;\n",
              "      fill: #D2E3FC;\n",
              "    }\n",
              "\n",
              "    [theme=dark] .colab-df-convert:hover {\n",
              "      background-color: #434B5C;\n",
              "      box-shadow: 0px 1px 3px 1px rgba(0, 0, 0, 0.15);\n",
              "      filter: drop-shadow(0px 1px 2px rgba(0, 0, 0, 0.3));\n",
              "      fill: #FFFFFF;\n",
              "    }\n",
              "  </style>\n",
              "\n",
              "      <script>\n",
              "        const buttonEl =\n",
              "          document.querySelector('#df-33bffdc4-4d05-4100-ba15-d751dfeda4d0 button.colab-df-convert');\n",
              "        buttonEl.style.display =\n",
              "          google.colab.kernel.accessAllowed ? 'block' : 'none';\n",
              "\n",
              "        async function convertToInteractive(key) {\n",
              "          const element = document.querySelector('#df-33bffdc4-4d05-4100-ba15-d751dfeda4d0');\n",
              "          const dataTable =\n",
              "            await google.colab.kernel.invokeFunction('convertToInteractive',\n",
              "                                                     [key], {});\n",
              "          if (!dataTable) return;\n",
              "\n",
              "          const docLinkHtml = 'Like what you see? Visit the ' +\n",
              "            '<a target=\"_blank\" href=https://colab.research.google.com/notebooks/data_table.ipynb>data table notebook</a>'\n",
              "            + ' to learn more about interactive tables.';\n",
              "          element.innerHTML = '';\n",
              "          dataTable['output_type'] = 'display_data';\n",
              "          await google.colab.output.renderOutput(dataTable, element);\n",
              "          const docLink = document.createElement('div');\n",
              "          docLink.innerHTML = docLinkHtml;\n",
              "          element.appendChild(docLink);\n",
              "        }\n",
              "      </script>\n",
              "    </div>\n",
              "  </div>\n",
              "  "
            ]
          },
          "metadata": {},
          "execution_count": 13
        }
      ],
      "source": [
        "data.corr()"
      ]
    },
    {
      "cell_type": "code",
      "execution_count": 14,
      "id": "f4dcdb02",
      "metadata": {
        "colab": {
          "base_uri": "https://localhost:8080/",
          "height": 435
        },
        "id": "f4dcdb02",
        "outputId": "e254151c-8a37-4bd7-97c0-4951aff06647"
      },
      "outputs": [
        {
          "output_type": "display_data",
          "data": {
            "text/plain": [
              "<Figure size 640x480 with 2 Axes>"
            ],
            "image/png": "[encoded data removed]"
          },
          "metadata": {}
        }
      ],
      "source": [
        "sns.heatmap(data.corr(), vmin=-1, vmax=1, annot=True);"
      ]
    },
    {
      "cell_type": "markdown",
      "id": "efafc256",
      "metadata": {
        "id": "efafc256"
      },
      "source": [
        "The data spans from 2007 to 2022."
      ]
    },
    {
      "cell_type": "markdown",
      "id": "c463820a",
      "metadata": {
        "id": "c463820a"
      },
      "source": [
        "Now lets look at the data for each state."
      ]
    },
    {
      "cell_type": "code",
      "execution_count": 15,
      "id": "bc07289f",
      "metadata": {
        "colab": {
          "base_uri": "https://localhost:8080/",
          "height": 442
        },
        "id": "bc07289f",
        "outputId": "b6df9cea-c213-4172-eb15-4b3cc5ee9c2e"
      },
      "outputs": [
        {
          "name": "stdout",
          "output_type": "stream",
          "text": [
            "State: Acre\n"
          ]
        },
        {
          "output_type": "execute_result",
          "data": {
            "text/plain": [
              "     year       areakm         municipality state\n",
              "0    2007  1005.901508           Acrelandia  Acre\n",
              "32   2007  1203.149826            Brasileia  Acre\n",
              "272  2007    67.116349  Santa Rosa do Purus  Acre\n",
              "256  2007   409.719071      Rodrigues Alves  Acre\n",
              "48   2007  1116.955936               Bujari  Acre\n",
              "..    ...          ...                  ...   ...\n",
              "255  2022  3062.655247           Rio Branco  Acre\n",
              "271  2022   527.223835      Rodrigues Alves  Acre\n",
              "287  2022   114.865099  Santa Rosa do Purus  Acre\n",
              "319  2022  1744.081345     Senador Guiomard  Acre\n",
              "351  2022  1621.064226               Xapuri  Acre\n",
              "\n",
              "[352 rows x 4 columns]"
            ],
            "text/html": [
              "\n",
              "  <div id=\"df-c3483bad-8a9d-4f69-991e-c54b2ccf83ba\">\n",
              "    <div class=\"colab-df-container\">\n",
              "      <div>\n",
              "<style scoped>\n",
              "    .dataframe tbody tr th:only-of-type {\n",
              "        vertical-align: middle;\n",
              "    }\n",
              "\n",
              "    .dataframe tbody tr th {\n",
              "        vertical-align: top;\n",
              "    }\n",
              "\n",
              "    .dataframe thead th {\n",
              "        text-align: right;\n",
              "    }\n",
              "</style>\n",
              "<table border=\"1\" class=\"dataframe\">\n",
              "  <thead>\n",
              "    <tr style=\"text-align: right;\">\n",
              "      <th></th>\n",
              "      <th>year</th>\n",
              "      <th>areakm</th>\n",
              "      <th>municipality</th>\n",
              "      <th>state</th>\n",
              "    </tr>\n",
              "  </thead>\n",
              "  <tbody>\n",
              "    <tr>\n",
              "      <th>0</th>\n",
              "      <td>2007</td>\n",
              "      <td>1005.901508</td>\n",
              "      <td>Acrelandia</td>\n",
              "      <td>Acre</td>\n",
              "    </tr>\n",
              "    <tr>\n",
              "      <th>32</th>\n",
              "      <td>2007</td>\n",
              "      <td>1203.149826</td>\n",
              "      <td>Brasileia</td>\n",
              "      <td>Acre</td>\n",
              "    </tr>\n",
              "    <tr>\n",
              "      <th>272</th>\n",
              "      <td>2007</td>\n",
              "      <td>67.116349</td>\n",
              "      <td>Santa Rosa do Purus</td>\n",
              "      <td>Acre</td>\n",
              "    </tr>\n",
              "    <tr>\n",
              "      <th>256</th>\n",
              "      <td>2007</td>\n",
              "      <td>409.719071</td>\n",
              "      <td>Rodrigues Alves</td>\n",
              "      <td>Acre</td>\n",
              "    </tr>\n",
              "    <tr>\n",
              "      <th>48</th>\n",
              "      <td>2007</td>\n",
              "      <td>1116.955936</td>\n",
              "      <td>Bujari</td>\n",
              "      <td>Acre</td>\n",
              "    </tr>\n",
              "    <tr>\n",
              "      <th>...</th>\n",
              "      <td>...</td>\n",
              "      <td>...</td>\n",
              "      <td>...</td>\n",
              "      <td>...</td>\n",
              "    </tr>\n",
              "    <tr>\n",
              "      <th>255</th>\n",
              "      <td>2022</td>\n",
              "      <td>3062.655247</td>\n",
              "      <td>Rio Branco</td>\n",
              "      <td>Acre</td>\n",
              "    </tr>\n",
              "    <tr>\n",
              "      <th>271</th>\n",
              "      <td>2022</td>\n",
              "      <td>527.223835</td>\n",
              "      <td>Rodrigues Alves</td>\n",
              "      <td>Acre</td>\n",
              "    </tr>\n",
              "    <tr>\n",
              "      <th>287</th>\n",
              "      <td>2022</td>\n",
              "      <td>114.865099</td>\n",
              "      <td>Santa Rosa do Purus</td>\n",
              "      <td>Acre</td>\n",
              "    </tr>\n",
              "    <tr>\n",
              "      <th>319</th>\n",
              "      <td>2022</td>\n",
              "      <td>1744.081345</td>\n",
              "      <td>Senador Guiomard</td>\n",
              "      <td>Acre</td>\n",
              "    </tr>\n",
              "    <tr>\n",
              "      <th>351</th>\n",
              "      <td>2022</td>\n",
              "      <td>1621.064226</td>\n",
              "      <td>Xapuri</td>\n",
              "      <td>Acre</td>\n",
              "    </tr>\n",
              "  </tbody>\n",
              "</table>\n",
              "<p>352 rows × 4 columns</p>\n",
              "</div>\n",
              "      <button class=\"colab-df-convert\" onclick=\"convertToInteractive('df-c3483bad-8a9d-4f69-991e-c54b2ccf83ba')\"\n",
              "              title=\"Convert this dataframe to an interactive table.\"\n",
              "              style=\"display:none;\">\n",
              "        \n",
              "  <svg xmlns=\"http://www.w3.org/2000/svg\" height=\"24px\"viewBox=\"0 0 24 24\"\n",
              "       width=\"24px\">\n",
              "    <path d=\"M0 0h24v24H0V0z\" fill=\"none\"/>\n",
              "    <path d=\"M18.56 5.44l.94 2.06.94-2.06 2.06-.94-2.06-.94-.94-2.06-.94 2.06-2.06.94zm-11 1L8.5 8.5l.94-2.06 2.06-.94-2.06-.94L8.5 2.5l-.94 2.06-2.06.94zm10 10l.94 2.06.94-2.06 2.06-.94-2.06-.94-.94-2.06-.94 2.06-2.06.94z\"/><path d=\"M17.41 7.96l-1.37-1.37c-.4-.4-.92-.59-1.43-.59-.52 0-1.04.2-1.43.59L10.3 9.45l-7.72 7.72c-.78.78-.78 2.05 0 2.83L4 21.41c.39.39.9.59 1.41.59.51 0 1.02-.2 1.41-.59l7.78-7.78 2.81-2.81c.8-.78.8-2.07 0-2.86zM5.41 20L4 18.59l7.72-7.72 1.47 1.35L5.41 20z\"/>\n",
              "  </svg>\n",
              "      </button>\n",
              "      \n",
              "  <style>\n",
              "    .colab-df-container {\n",
              "      display:flex;\n",
              "      flex-wrap:wrap;\n",
              "      gap: 12px;\n",
              "    }\n",
              "\n",
              "    .colab-df-convert {\n",
              "      background-color: #E8F0FE;\n",
              "      border: none;\n",
              "      border-radius: 50%;\n",
              "      cursor: pointer;\n",
              "      display: none;\n",
              "      fill: #1967D2;\n",
              "      height: 32px;\n",
              "      padding: 0 0 0 0;\n",
              "      width: 32px;\n",
              "    }\n",
              "\n",
              "    .colab-df-convert:hover {\n",
              "      background-color: #E2EBFA;\n",
              "      box-shadow: 0px 1px 2px rgba(60, 64, 67, 0.3), 0px 1px 3px 1px rgba(60, 64, 67, 0.15);\n",
              "      fill: #174EA6;\n",
              "    }\n",
              "\n",
              "    [theme=dark] .colab-df-convert {\n",
              "      background-color: #3B4455;\n",
              "      fill: #D2E3FC;\n",
              "    }\n",
              "\n",
              "    [theme=dark] .colab-df-convert:hover {\n",
              "      background-color: #434B5C;\n",
              "      box-shadow: 0px 1px 3px 1px rgba(0, 0, 0, 0.15);\n",
              "      filter: drop-shadow(0px 1px 2px rgba(0, 0, 0, 0.3));\n",
              "      fill: #FFFFFF;\n",
              "    }\n",
              "  </style>\n",
              "\n",
              "      <script>\n",
              "        const buttonEl =\n",
              "          document.querySelector('#df-c3483bad-8a9d-4f69-991e-c54b2ccf83ba button.colab-df-convert');\n",
              "        buttonEl.style.display =\n",
              "          google.colab.kernel.accessAllowed ? 'block' : 'none';\n",
              "\n",
              "        async function convertToInteractive(key) {\n",
              "          const element = document.querySelector('#df-c3483bad-8a9d-4f69-991e-c54b2ccf83ba');\n",
              "          const dataTable =\n",
              "            await google.colab.kernel.invokeFunction('convertToInteractive',\n",
              "                                                     [key], {});\n",
              "          if (!dataTable) return;\n",
              "\n",
              "          const docLinkHtml = 'Like what you see? Visit the ' +\n",
              "            '<a target=\"_blank\" href=https://colab.research.google.com/notebooks/data_table.ipynb>data table notebook</a>'\n",
              "            + ' to learn more about interactive tables.';\n",
              "          element.innerHTML = '';\n",
              "          dataTable['output_type'] = 'display_data';\n",
              "          await google.colab.output.renderOutput(dataTable, element);\n",
              "          const docLink = document.createElement('div');\n",
              "          docLink.innerHTML = docLinkHtml;\n",
              "          element.appendChild(docLink);\n",
              "        }\n",
              "      </script>\n",
              "    </div>\n",
              "  </div>\n",
              "  "
            ]
          },
          "metadata": {},
          "execution_count": 15
        }
      ],
      "source": [
        "################\n",
        "#To look at EDA for diffrent states, run this cell and input the state you wish to analyze\n",
        "###############\n",
        "\n",
        "state= input('State: ')\n",
        "state_data=data[data['state']==state]\n",
        "state_data.sort_values(by=['year'])"
      ]
    },
    {
      "cell_type": "code",
      "execution_count": 16,
      "id": "26c8a7ea",
      "metadata": {
        "colab": {
          "base_uri": "https://localhost:8080/",
          "height": 490
        },
        "id": "26c8a7ea",
        "outputId": "01203829-177d-48c7-87e9-60b4745cabe6"
      },
      "outputs": [
        {
          "output_type": "execute_result",
          "data": {
            "text/plain": [
              "Text(0, 0.5, 'Frequency')"
            ]
          },
          "metadata": {},
          "execution_count": 16
        },
        {
          "output_type": "display_data",
          "data": {
            "text/plain": [
              "<Figure size 640x480 with 1 Axes>"
            ],
            "image/png": "[encoded data removed]"
          },
          "metadata": {}
        }
      ],
      "source": [
        "import matplotlib.pyplot as plt\n",
        "plt.hist(state_data['areakm'])\n",
        "plt.title('Distribution of Area in Kilometers of Deforestation from 2007 to 2022 for {}'.format(state))\n",
        "plt.xlabel('Area (Km)')\n",
        "plt.ylabel('Frequency')"
      ]
    },
    {
      "cell_type": "code",
      "execution_count": 17,
      "id": "5dc394ea",
      "metadata": {
        "colab": {
          "base_uri": "https://localhost:8080/"
        },
        "id": "5dc394ea",
        "outputId": "cb0b2aac-e49f-4ac2-91c5-fe7a0dc16181"
      },
      "outputs": [
        {
          "output_type": "execute_result",
          "data": {
            "text/plain": [
              "count     352.000000\n",
              "mean      988.131688\n",
              "std       656.949701\n",
              "min        67.116349\n",
              "25%       345.975311\n",
              "50%      1056.185245\n",
              "75%      1398.961778\n",
              "max      3062.655247\n",
              "Name: areakm, dtype: float64"
            ]
          },
          "metadata": {},
          "execution_count": 17
        }
      ],
      "source": [
        "state_data['areakm'].describe()"
      ]
    },
    {
      "cell_type": "markdown",
      "id": "1970cc39",
      "metadata": {
        "id": "1970cc39"
      },
      "source": [
        "### 1.2: Average Area of Deforestation (Km) by Year "
      ]
    },
    {
      "cell_type": "code",
      "execution_count": 25,
      "id": "b94f2266",
      "metadata": {
        "id": "b94f2266"
      },
      "outputs": [],
      "source": [
        "average_km = state_data.groupby('year')['areakm'].mean()\n",
        "\n",
        "average_km = average_km.to_frame()"
      ]
    },
    {
      "cell_type": "code",
      "execution_count": 26,
      "id": "61d43932",
      "metadata": {
        "colab": {
          "base_uri": "https://localhost:8080/",
          "height": 551
        },
        "id": "61d43932",
        "outputId": "bbaeba05-ba95-49fd-c48e-8b7ec030b096"
      },
      "outputs": [
        {
          "output_type": "execute_result",
          "data": {
            "text/plain": [
              "    year       areakm\n",
              "0   2007   882.440254\n",
              "1   2008   895.565653\n",
              "2   2009   902.917072\n",
              "3   2010   914.974482\n",
              "4   2011   928.408634\n",
              "5   2012   940.704718\n",
              "6   2013   949.806710\n",
              "7   2014   965.651654\n",
              "8   2015   975.781423\n",
              "9   2016   992.425323\n",
              "10  2017  1003.591394\n",
              "11  2018  1022.981667\n",
              "12  2019  1055.112554\n",
              "13  2020  1085.145100\n",
              "14  2021  1125.693047\n",
              "15  2022  1168.907323"
            ],
            "text/html": [
              "\n",
              "  <div id=\"df-3598de23-c194-435b-bbbf-ab95b39e6055\">\n",
              "    <div class=\"colab-df-container\">\n",
              "      <div>\n",
              "<style scoped>\n",
              "    .dataframe tbody tr th:only-of-type {\n",
              "        vertical-align: middle;\n",
              "    }\n",
              "\n",
              "    .dataframe tbody tr th {\n",
              "        vertical-align: top;\n",
              "    }\n",
              "\n",
              "    .dataframe thead th {\n",
              "        text-align: right;\n",
              "    }\n",
              "</style>\n",
              "<table border=\"1\" class=\"dataframe\">\n",
              "  <thead>\n",
              "    <tr style=\"text-align: right;\">\n",
              "      <th></th>\n",
              "      <th>year</th>\n",
              "      <th>areakm</th>\n",
              "    </tr>\n",
              "  </thead>\n",
              "  <tbody>\n",
              "    <tr>\n",
              "      <th>0</th>\n",
              "      <td>2007</td>\n",
              "      <td>882.440254</td>\n",
              "    </tr>\n",
              "    <tr>\n",
              "      <th>1</th>\n",
              "      <td>2008</td>\n",
              "      <td>895.565653</td>\n",
              "    </tr>\n",
              "    <tr>\n",
              "      <th>2</th>\n",
              "      <td>2009</td>\n",
              "      <td>902.917072</td>\n",
              "    </tr>\n",
              "    <tr>\n",
              "      <th>3</th>\n",
              "      <td>2010</td>\n",
              "      <td>914.974482</td>\n",
              "    </tr>\n",
              "    <tr>\n",
              "      <th>4</th>\n",
              "      <td>2011</td>\n",
              "      <td>928.408634</td>\n",
              "    </tr>\n",
              "    <tr>\n",
              "      <th>5</th>\n",
              "      <td>2012</td>\n",
              "      <td>940.704718</td>\n",
              "    </tr>\n",
              "    <tr>\n",
              "      <th>6</th>\n",
              "      <td>2013</td>\n",
              "      <td>949.806710</td>\n",
              "    </tr>\n",
              "    <tr>\n",
              "      <th>7</th>\n",
              "      <td>2014</td>\n",
              "      <td>965.651654</td>\n",
              "    </tr>\n",
              "    <tr>\n",
              "      <th>8</th>\n",
              "      <td>2015</td>\n",
              "      <td>975.781423</td>\n",
              "    </tr>\n",
              "    <tr>\n",
              "      <th>9</th>\n",
              "      <td>2016</td>\n",
              "      <td>992.425323</td>\n",
              "    </tr>\n",
              "    <tr>\n",
              "      <th>10</th>\n",
              "      <td>2017</td>\n",
              "      <td>1003.591394</td>\n",
              "    </tr>\n",
              "    <tr>\n",
              "      <th>11</th>\n",
              "      <td>2018</td>\n",
              "      <td>1022.981667</td>\n",
              "    </tr>\n",
              "    <tr>\n",
              "      <th>12</th>\n",
              "      <td>2019</td>\n",
              "      <td>1055.112554</td>\n",
              "    </tr>\n",
              "    <tr>\n",
              "      <th>13</th>\n",
              "      <td>2020</td>\n",
              "      <td>1085.145100</td>\n",
              "    </tr>\n",
              "    <tr>\n",
              "      <th>14</th>\n",
              "      <td>2021</td>\n",
              "      <td>1125.693047</td>\n",
              "    </tr>\n",
              "    <tr>\n",
              "      <th>15</th>\n",
              "      <td>2022</td>\n",
              "      <td>1168.907323</td>\n",
              "    </tr>\n",
              "  </tbody>\n",
              "</table>\n",
              "</div>\n",
              "      <button class=\"colab-df-convert\" onclick=\"convertToInteractive('df-3598de23-c194-435b-bbbf-ab95b39e6055')\"\n",
              "              title=\"Convert this dataframe to an interactive table.\"\n",
              "              style=\"display:none;\">\n",
              "        \n",
              "  <svg xmlns=\"http://www.w3.org/2000/svg\" height=\"24px\"viewBox=\"0 0 24 24\"\n",
              "       width=\"24px\">\n",
              "    <path d=\"M0 0h24v24H0V0z\" fill=\"none\"/>\n",
              "    <path d=\"M18.56 5.44l.94 2.06.94-2.06 2.06-.94-2.06-.94-.94-2.06-.94 2.06-2.06.94zm-11 1L8.5 8.5l.94-2.06 2.06-.94-2.06-.94L8.5 2.5l-.94 2.06-2.06.94zm10 10l.94 2.06.94-2.06 2.06-.94-2.06-.94-.94-2.06-.94 2.06-2.06.94z\"/><path d=\"M17.41 7.96l-1.37-1.37c-.4-.4-.92-.59-1.43-.59-.52 0-1.04.2-1.43.59L10.3 9.45l-7.72 7.72c-.78.78-.78 2.05 0 2.83L4 21.41c.39.39.9.59 1.41.59.51 0 1.02-.2 1.41-.59l7.78-7.78 2.81-2.81c.8-.78.8-2.07 0-2.86zM5.41 20L4 18.59l7.72-7.72 1.47 1.35L5.41 20z\"/>\n",
              "  </svg>\n",
              "      </button>\n",
              "      \n",
              "  <style>\n",
              "    .colab-df-container {\n",
              "      display:flex;\n",
              "      flex-wrap:wrap;\n",
              "      gap: 12px;\n",
              "    }\n",
              "\n",
              "    .colab-df-convert {\n",
              "      background-color: #E8F0FE;\n",
              "      border: none;\n",
              "      border-radius: 50%;\n",
              "      cursor: pointer;\n",
              "      display: none;\n",
              "      fill: #1967D2;\n",
              "      height: 32px;\n",
              "      padding: 0 0 0 0;\n",
              "      width: 32px;\n",
              "    }\n",
              "\n",
              "    .colab-df-convert:hover {\n",
              "      background-color: #E2EBFA;\n",
              "      box-shadow: 0px 1px 2px rgba(60, 64, 67, 0.3), 0px 1px 3px 1px rgba(60, 64, 67, 0.15);\n",
              "      fill: #174EA6;\n",
              "    }\n",
              "\n",
              "    [theme=dark] .colab-df-convert {\n",
              "      background-color: #3B4455;\n",
              "      fill: #D2E3FC;\n",
              "    }\n",
              "\n",
              "    [theme=dark] .colab-df-convert:hover {\n",
              "      background-color: #434B5C;\n",
              "      box-shadow: 0px 1px 3px 1px rgba(0, 0, 0, 0.15);\n",
              "      filter: drop-shadow(0px 1px 2px rgba(0, 0, 0, 0.3));\n",
              "      fill: #FFFFFF;\n",
              "    }\n",
              "  </style>\n",
              "\n",
              "      <script>\n",
              "        const buttonEl =\n",
              "          document.querySelector('#df-3598de23-c194-435b-bbbf-ab95b39e6055 button.colab-df-convert');\n",
              "        buttonEl.style.display =\n",
              "          google.colab.kernel.accessAllowed ? 'block' : 'none';\n",
              "\n",
              "        async function convertToInteractive(key) {\n",
              "          const element = document.querySelector('#df-3598de23-c194-435b-bbbf-ab95b39e6055');\n",
              "          const dataTable =\n",
              "            await google.colab.kernel.invokeFunction('convertToInteractive',\n",
              "                                                     [key], {});\n",
              "          if (!dataTable) return;\n",
              "\n",
              "          const docLinkHtml = 'Like what you see? Visit the ' +\n",
              "            '<a target=\"_blank\" href=https://colab.research.google.com/notebooks/data_table.ipynb>data table notebook</a>'\n",
              "            + ' to learn more about interactive tables.';\n",
              "          element.innerHTML = '';\n",
              "          dataTable['output_type'] = 'display_data';\n",
              "          await google.colab.output.renderOutput(dataTable, element);\n",
              "          const docLink = document.createElement('div');\n",
              "          docLink.innerHTML = docLinkHtml;\n",
              "          element.appendChild(docLink);\n",
              "        }\n",
              "      </script>\n",
              "    </div>\n",
              "  </div>\n",
              "  "
            ]
          },
          "metadata": {},
          "execution_count": 26
        }
      ],
      "source": [
        "average_km=average_km.reset_index()\n",
        "average_km"
      ]
    },
    {
      "cell_type": "code",
      "execution_count": 27,
      "id": "db91eb75",
      "metadata": {
        "colab": {
          "base_uri": "https://localhost:8080/",
          "height": 472
        },
        "id": "db91eb75",
        "outputId": "84552788-3461-49d4-9607-1b7508e635d7"
      },
      "outputs": [
        {
          "output_type": "display_data",
          "data": {
            "text/plain": [
              "<Figure size 640x480 with 1 Axes>"
            ],
            "image/png": "[encoded data removed]"
          },
          "metadata": {}
        }
      ],
      "source": [
        "plt.plot(average_km.year,average_km.areakm)\n",
        "plt.xlabel('Year')\n",
        "plt.ylabel('Area of Deforestation (Km)')\n",
        "plt.title('Average Area of Deforestation in Kilometers by Year for {}'.format(state))\n",
        "plt.show()"
      ]
    },
    {
      "cell_type": "markdown",
      "id": "e548fac7",
      "metadata": {
        "id": "e548fac7"
      },
      "source": [
        "Based on the plot, we can say that there is an upwards trend in average area of deforestation by year. The function is monotonically increasing."
      ]
    },
    {
      "cell_type": "markdown",
      "id": "7bc62487",
      "metadata": {
        "id": "7bc62487"
      },
      "source": [
        "### 1.3: Difference in Area of Deforestation by Year"
      ]
    },
    {
      "cell_type": "markdown",
      "id": "cb28682c",
      "metadata": {
        "id": "cb28682c"
      },
      "source": [
        "Find the difference in area of deforestation in kilometers from the previous year."
      ]
    },
    {
      "cell_type": "markdown",
      "id": "aedae1e6",
      "metadata": {
        "id": "aedae1e6"
      },
      "source": [
        "$ Area_{n+1}- Area_{n} $"
      ]
    },
    {
      "cell_type": "code",
      "execution_count": 28,
      "id": "c521ba8d",
      "metadata": {
        "id": "c521ba8d"
      },
      "outputs": [],
      "source": [
        "#calculates the diffrenece in area from previous year\n",
        "area_vals = average_km['areakm'].values\n",
        "diff_area = area_vals[1:] - area_vals[:-1]\n",
        "diff_area = pd.DataFrame(diff_area, columns=['diff_area'])"
      ]
    },
    {
      "cell_type": "code",
      "execution_count": 29,
      "id": "92bd39b8",
      "metadata": {
        "id": "92bd39b8"
      },
      "outputs": [],
      "source": [
        "diff_area['year'] = range(2008, 2023)"
      ]
    },
    {
      "cell_type": "code",
      "execution_count": 30,
      "id": "38b0cad2",
      "metadata": {
        "colab": {
          "base_uri": "https://localhost:8080/",
          "height": 519
        },
        "id": "38b0cad2",
        "outputId": "662fda7f-7602-466e-e962-6fdc9c7900b9"
      },
      "outputs": [
        {
          "output_type": "execute_result",
          "data": {
            "text/plain": [
              "    diff_area  year\n",
              "0   13.125399  2008\n",
              "1    7.351419  2009\n",
              "2   12.057410  2010\n",
              "3   13.434153  2011\n",
              "4   12.296084  2012\n",
              "5    9.101991  2013\n",
              "6   15.844944  2014\n",
              "7   10.129769  2015\n",
              "8   16.643900  2016\n",
              "9   11.166071  2017\n",
              "10  19.390273  2018\n",
              "11  32.130887  2019\n",
              "12  30.032546  2020\n",
              "13  40.547946  2021\n",
              "14  43.214276  2022"
            ],
            "text/html": [
              "\n",
              "  <div id=\"df-52f933bf-ad98-4567-bf1f-ccb9ff06dfb7\">\n",
              "    <div class=\"colab-df-container\">\n",
              "      <div>\n",
              "<style scoped>\n",
              "    .dataframe tbody tr th:only-of-type {\n",
              "        vertical-align: middle;\n",
              "    }\n",
              "\n",
              "    .dataframe tbody tr th {\n",
              "        vertical-align: top;\n",
              "    }\n",
              "\n",
              "    .dataframe thead th {\n",
              "        text-align: right;\n",
              "    }\n",
              "</style>\n",
              "<table border=\"1\" class=\"dataframe\">\n",
              "  <thead>\n",
              "    <tr style=\"text-align: right;\">\n",
              "      <th></th>\n",
              "      <th>diff_area</th>\n",
              "      <th>year</th>\n",
              "    </tr>\n",
              "  </thead>\n",
              "  <tbody>\n",
              "    <tr>\n",
              "      <th>0</th>\n",
              "      <td>13.125399</td>\n",
              "      <td>2008</td>\n",
              "    </tr>\n",
              "    <tr>\n",
              "      <th>1</th>\n",
              "      <td>7.351419</td>\n",
              "      <td>2009</td>\n",
              "    </tr>\n",
              "    <tr>\n",
              "      <th>2</th>\n",
              "      <td>12.057410</td>\n",
              "      <td>2010</td>\n",
              "    </tr>\n",
              "    <tr>\n",
              "      <th>3</th>\n",
              "      <td>13.434153</td>\n",
              "      <td>2011</td>\n",
              "    </tr>\n",
              "    <tr>\n",
              "      <th>4</th>\n",
              "      <td>12.296084</td>\n",
              "      <td>2012</td>\n",
              "    </tr>\n",
              "    <tr>\n",
              "      <th>5</th>\n",
              "      <td>9.101991</td>\n",
              "      <td>2013</td>\n",
              "    </tr>\n",
              "    <tr>\n",
              "      <th>6</th>\n",
              "      <td>15.844944</td>\n",
              "      <td>2014</td>\n",
              "    </tr>\n",
              "    <tr>\n",
              "      <th>7</th>\n",
              "      <td>10.129769</td>\n",
              "      <td>2015</td>\n",
              "    </tr>\n",
              "    <tr>\n",
              "      <th>8</th>\n",
              "      <td>16.643900</td>\n",
              "      <td>2016</td>\n",
              "    </tr>\n",
              "    <tr>\n",
              "      <th>9</th>\n",
              "      <td>11.166071</td>\n",
              "      <td>2017</td>\n",
              "    </tr>\n",
              "    <tr>\n",
              "      <th>10</th>\n",
              "      <td>19.390273</td>\n",
              "      <td>2018</td>\n",
              "    </tr>\n",
              "    <tr>\n",
              "      <th>11</th>\n",
              "      <td>32.130887</td>\n",
              "      <td>2019</td>\n",
              "    </tr>\n",
              "    <tr>\n",
              "      <th>12</th>\n",
              "      <td>30.032546</td>\n",
              "      <td>2020</td>\n",
              "    </tr>\n",
              "    <tr>\n",
              "      <th>13</th>\n",
              "      <td>40.547946</td>\n",
              "      <td>2021</td>\n",
              "    </tr>\n",
              "    <tr>\n",
              "      <th>14</th>\n",
              "      <td>43.214276</td>\n",
              "      <td>2022</td>\n",
              "    </tr>\n",
              "  </tbody>\n",
              "</table>\n",
              "</div>\n",
              "      <button class=\"colab-df-convert\" onclick=\"convertToInteractive('df-52f933bf-ad98-4567-bf1f-ccb9ff06dfb7')\"\n",
              "              title=\"Convert this dataframe to an interactive table.\"\n",
              "              style=\"display:none;\">\n",
              "        \n",
              "  <svg xmlns=\"http://www.w3.org/2000/svg\" height=\"24px\"viewBox=\"0 0 24 24\"\n",
              "       width=\"24px\">\n",
              "    <path d=\"M0 0h24v24H0V0z\" fill=\"none\"/>\n",
              "    <path d=\"M18.56 5.44l.94 2.06.94-2.06 2.06-.94-2.06-.94-.94-2.06-.94 2.06-2.06.94zm-11 1L8.5 8.5l.94-2.06 2.06-.94-2.06-.94L8.5 2.5l-.94 2.06-2.06.94zm10 10l.94 2.06.94-2.06 2.06-.94-2.06-.94-.94-2.06-.94 2.06-2.06.94z\"/><path d=\"M17.41 7.96l-1.37-1.37c-.4-.4-.92-.59-1.43-.59-.52 0-1.04.2-1.43.59L10.3 9.45l-7.72 7.72c-.78.78-.78 2.05 0 2.83L4 21.41c.39.39.9.59 1.41.59.51 0 1.02-.2 1.41-.59l7.78-7.78 2.81-2.81c.8-.78.8-2.07 0-2.86zM5.41 20L4 18.59l7.72-7.72 1.47 1.35L5.41 20z\"/>\n",
              "  </svg>\n",
              "      </button>\n",
              "      \n",
              "  <style>\n",
              "    .colab-df-container {\n",
              "      display:flex;\n",
              "      flex-wrap:wrap;\n",
              "      gap: 12px;\n",
              "    }\n",
              "\n",
              "    .colab-df-convert {\n",
              "      background-color: #E8F0FE;\n",
              "      border: none;\n",
              "      border-radius: 50%;\n",
              "      cursor: pointer;\n",
              "      display: none;\n",
              "      fill: #1967D2;\n",
              "      height: 32px;\n",
              "      padding: 0 0 0 0;\n",
              "      width: 32px;\n",
              "    }\n",
              "\n",
              "    .colab-df-convert:hover {\n",
              "      background-color: #E2EBFA;\n",
              "      box-shadow: 0px 1px 2px rgba(60, 64, 67, 0.3), 0px 1px 3px 1px rgba(60, 64, 67, 0.15);\n",
              "      fill: #174EA6;\n",
              "    }\n",
              "\n",
              "    [theme=dark] .colab-df-convert {\n",
              "      background-color: #3B4455;\n",
              "      fill: #D2E3FC;\n",
              "    }\n",
              "\n",
              "    [theme=dark] .colab-df-convert:hover {\n",
              "      background-color: #434B5C;\n",
              "      box-shadow: 0px 1px 3px 1px rgba(0, 0, 0, 0.15);\n",
              "      filter: drop-shadow(0px 1px 2px rgba(0, 0, 0, 0.3));\n",
              "      fill: #FFFFFF;\n",
              "    }\n",
              "  </style>\n",
              "\n",
              "      <script>\n",
              "        const buttonEl =\n",
              "          document.querySelector('#df-52f933bf-ad98-4567-bf1f-ccb9ff06dfb7 button.colab-df-convert');\n",
              "        buttonEl.style.display =\n",
              "          google.colab.kernel.accessAllowed ? 'block' : 'none';\n",
              "\n",
              "        async function convertToInteractive(key) {\n",
              "          const element = document.querySelector('#df-52f933bf-ad98-4567-bf1f-ccb9ff06dfb7');\n",
              "          const dataTable =\n",
              "            await google.colab.kernel.invokeFunction('convertToInteractive',\n",
              "                                                     [key], {});\n",
              "          if (!dataTable) return;\n",
              "\n",
              "          const docLinkHtml = 'Like what you see? Visit the ' +\n",
              "            '<a target=\"_blank\" href=https://colab.research.google.com/notebooks/data_table.ipynb>data table notebook</a>'\n",
              "            + ' to learn more about interactive tables.';\n",
              "          element.innerHTML = '';\n",
              "          dataTable['output_type'] = 'display_data';\n",
              "          await google.colab.output.renderOutput(dataTable, element);\n",
              "          const docLink = document.createElement('div');\n",
              "          docLink.innerHTML = docLinkHtml;\n",
              "          element.appendChild(docLink);\n",
              "        }\n",
              "      </script>\n",
              "    </div>\n",
              "  </div>\n",
              "  "
            ]
          },
          "metadata": {},
          "execution_count": 30
        }
      ],
      "source": [
        "diff_area"
      ]
    },
    {
      "cell_type": "markdown",
      "id": "39f8c88f",
      "metadata": {
        "id": "39f8c88f"
      },
      "source": [
        "Each entry in the above dataframe shows the diffrence in area of deforestation from the previous year."
      ]
    },
    {
      "cell_type": "code",
      "execution_count": 31,
      "id": "d6d5f23f",
      "metadata": {
        "colab": {
          "base_uri": "https://localhost:8080/",
          "height": 472
        },
        "id": "d6d5f23f",
        "outputId": "fe245bae-89e0-43d0-d3c8-19b9157c7be3"
      },
      "outputs": [
        {
          "output_type": "display_data",
          "data": {
            "text/plain": [
              "<Figure size 640x480 with 1 Axes>"
            ],
            "image/png": "[encoded data removed]"
          },
          "metadata": {}
        }
      ],
      "source": [
        "plt.plot(diff_area.year,diff_area.diff_area)\n",
        "plt.xlabel('Year')\n",
        "plt.ylabel('Diffrenece in Area of Deforestation (Km)')\n",
        "plt.title('Change in Area of Deforestation in Kilometers from the Previous Year for {}'.format(state))\n",
        "plt.show()"
      ]
    },
    {
      "cell_type": "markdown",
      "id": "cef4d10e",
      "metadata": {
        "id": "cef4d10e"
      },
      "source": [
        "From this plot, we can see that the area of deforestation has skyrocketed in previous years. From 2018, the area of deforestation has steadily incresed and shows an upwards trend. "
      ]
    },
    {
      "cell_type": "markdown",
      "id": "64f2bccd",
      "metadata": {
        "id": "64f2bccd"
      },
      "source": [
        "## Section 2: Baseline Model"
      ]
    },
    {
      "cell_type": "code",
      "execution_count": 32,
      "id": "9c612ef0",
      "metadata": {
        "id": "9c612ef0"
      },
      "outputs": [],
      "source": [
        "series = state_data.groupby('year')['areakm'].mean()\n",
        "# Create a Series with a DatetimeIndex\n",
        "data = pd.Series([1, 2, 3], index=pd.date_range('2022-01-01', periods=3, freq='D'))"
      ]
    },
    {
      "cell_type": "code",
      "execution_count": 33,
      "id": "c5e7fe98",
      "metadata": {
        "colab": {
          "base_uri": "https://localhost:8080/"
        },
        "id": "c5e7fe98",
        "outputId": "465a5e2b-af1e-4dfb-a13a-43fa25cc4fef"
      },
      "outputs": [
        {
          "output_type": "execute_result",
          "data": {
            "text/plain": [
              "year\n",
              "2007     882.440254\n",
              "2008     895.565653\n",
              "2009     902.917072\n",
              "2010     914.974482\n",
              "2011     928.408634\n",
              "2012     940.704718\n",
              "2013     949.806710\n",
              "2014     965.651654\n",
              "2015     975.781423\n",
              "2016     992.425323\n",
              "2017    1003.591394\n",
              "2018    1022.981667\n",
              "2019    1055.112554\n",
              "2020    1085.145100\n",
              "2021    1125.693047\n",
              "2022    1168.907323\n",
              "Name: areakm, dtype: float64"
            ]
          },
          "metadata": {},
          "execution_count": 33
        }
      ],
      "source": [
        "series"
      ]
    },
    {
      "cell_type": "code",
      "execution_count": 34,
      "id": "86397c6a",
      "metadata": {
        "colab": {
          "base_uri": "https://localhost:8080/",
          "height": 449
        },
        "id": "86397c6a",
        "outputId": "15415435-ee0e-43c3-c92d-339e6bc526c9"
      },
      "outputs": [
        {
          "output_type": "display_data",
          "data": {
            "text/plain": [
              "<Figure size 640x480 with 1 Axes>"
            ],
            "image/png": "[encoded data removed]"
          },
          "metadata": {}
        }
      ],
      "source": [
        "from matplotlib import pyplot \n",
        "\n",
        "series.plot()\n",
        "pyplot.show()"
      ]
    },
    {
      "cell_type": "code",
      "execution_count": 35,
      "id": "879c8a94",
      "metadata": {
        "colab": {
          "base_uri": "https://localhost:8080/",
          "height": 473
        },
        "id": "879c8a94",
        "outputId": "ab103f9d-2acd-48be-fd13-84977c53ac28"
      },
      "outputs": [
        {
          "output_type": "execute_result",
          "data": {
            "text/plain": [
              "<Axes: xlabel='Lag', ylabel='Autocorrelation'>"
            ]
          },
          "metadata": {},
          "execution_count": 35
        },
        {
          "output_type": "display_data",
          "data": {
            "text/plain": [
              "<Figure size 640x480 with 1 Axes>"
            ],
            "image/png": "[encoded data removed]"
          },
          "metadata": {}
        }
      ],
      "source": [
        "#autocorrelation plot\n",
        "pd.plotting.autocorrelation_plot(series)"
      ]
    },
    {
      "cell_type": "markdown",
      "id": "260d06b7",
      "metadata": {
        "id": "260d06b7"
      },
      "source": [
        "There is a high degree of autocorrelation between consecutive observations. The data is not random and has some relationship."
      ]
    },
    {
      "cell_type": "markdown",
      "id": "e0445241",
      "metadata": {
        "id": "e0445241"
      },
      "source": [
        "### Linear Regression"
      ]
    },
    {
      "cell_type": "code",
      "execution_count": 36,
      "id": "b0492831",
      "metadata": {
        "colab": {
          "base_uri": "https://localhost:8080/",
          "height": 74
        },
        "id": "b0492831",
        "outputId": "4dd5108c-246f-4ca5-f7fb-243f002f8457"
      },
      "outputs": [
        {
          "output_type": "execute_result",
          "data": {
            "text/plain": [
              "LinearRegression()"
            ],
            "text/html": [
              "<style>#sk-container-id-1 {color: black;background-color: white;}#sk-container-id-1 pre{padding: 0;}#sk-container-id-1 div.sk-toggleable {background-color: white;}#sk-container-id-1 label.sk-toggleable__label {cursor: pointer;display: block;width: 100%;margin-bottom: 0;padding: 0.3em;box-sizing: border-box;text-align: center;}#sk-container-id-1 label.sk-toggleable__label-arrow:before {content: \"▸\";float: left;margin-right: 0.25em;color: #696969;}#sk-container-id-1 label.sk-toggleable__label-arrow:hover:before {color: black;}#sk-container-id-1 div.sk-estimator:hover label.sk-toggleable__label-arrow:before {color: black;}#sk-container-id-1 div.sk-toggleable__content {max-height: 0;max-width: 0;overflow: hidden;text-align: left;background-color: #f0f8ff;}#sk-container-id-1 div.sk-toggleable__content pre {margin: 0.2em;color: black;border-radius: 0.25em;background-color: #f0f8ff;}#sk-container-id-1 input.sk-toggleable__control:checked~div.sk-toggleable__content {max-height: 200px;max-width: 100%;overflow: auto;}#sk-container-id-1 input.sk-toggleable__control:checked~label.sk-toggleable__label-arrow:before {content: \"▾\";}#sk-container-id-1 div.sk-estimator input.sk-toggleable__control:checked~label.sk-toggleable__label {background-color: #d4ebff;}#sk-container-id-1 div.sk-label input.sk-toggleable__control:checked~label.sk-toggleable__label {background-color: #d4ebff;}#sk-container-id-1 input.sk-hidden--visually {border: 0;clip: rect(1px 1px 1px 1px);clip: rect(1px, 1px, 1px, 1px);height: 1px;margin: -1px;overflow: hidden;padding: 0;position: absolute;width: 1px;}#sk-container-id-1 div.sk-estimator {font-family: monospace;background-color: #f0f8ff;border: 1px dotted black;border-radius: 0.25em;box-sizing: border-box;margin-bottom: 0.5em;}#sk-container-id-1 div.sk-estimator:hover {background-color: #d4ebff;}#sk-container-id-1 div.sk-parallel-item::after {content: \"\";width: 100%;border-bottom: 1px solid gray;flex-grow: 1;}#sk-container-id-1 div.sk-label:hover label.sk-toggleable__label {background-color: #d4ebff;}#sk-container-id-1 div.sk-serial::before {content: \"\";position: absolute;border-left: 1px solid gray;box-sizing: border-box;top: 0;bottom: 0;left: 50%;z-index: 0;}#sk-container-id-1 div.sk-serial {display: flex;flex-direction: column;align-items: center;background-color: white;padding-right: 0.2em;padding-left: 0.2em;position: relative;}#sk-container-id-1 div.sk-item {position: relative;z-index: 1;}#sk-container-id-1 div.sk-parallel {display: flex;align-items: stretch;justify-content: center;background-color: white;position: relative;}#sk-container-id-1 div.sk-item::before, #sk-container-id-1 div.sk-parallel-item::before {content: \"\";position: absolute;border-left: 1px solid gray;box-sizing: border-box;top: 0;bottom: 0;left: 50%;z-index: -1;}#sk-container-id-1 div.sk-parallel-item {display: flex;flex-direction: column;z-index: 1;position: relative;background-color: white;}#sk-container-id-1 div.sk-parallel-item:first-child::after {align-self: flex-end;width: 50%;}#sk-container-id-1 div.sk-parallel-item:last-child::after {align-self: flex-start;width: 50%;}#sk-container-id-1 div.sk-parallel-item:only-child::after {width: 0;}#sk-container-id-1 div.sk-dashed-wrapped {border: 1px dashed gray;margin: 0 0.4em 0.5em 0.4em;box-sizing: border-box;padding-bottom: 0.4em;background-color: white;}#sk-container-id-1 div.sk-label label {font-family: monospace;font-weight: bold;display: inline-block;line-height: 1.2em;}#sk-container-id-1 div.sk-label-container {text-align: center;}#sk-container-id-1 div.sk-container {/* jupyter's `normalize.less` sets `[hidden] { display: none; }` but bootstrap.min.css set `[hidden] { display: none !important; }` so we also need the `!important` here to be able to override the default hidden behavior on the sphinx rendered scikit-learn.org. See: https://github.com/scikit-learn/scikit-learn/issues/21755 */display: inline-block !important;position: relative;}#sk-container-id-1 div.sk-text-repr-fallback {display: none;}</style><div id=\"sk-container-id-1\" class=\"sk-top-container\"><div class=\"sk-text-repr-fallback\"><pre>LinearRegression()</pre><b>In a Jupyter environment, please rerun this cell to show the HTML representation or trust the notebook. <br />On GitHub, the HTML representation is unable to render, please try loading this page with nbviewer.org.</b></div><div class=\"sk-container\" hidden><div class=\"sk-item\"><div class=\"sk-estimator sk-toggleable\"><input class=\"sk-toggleable__control sk-hidden--visually\" id=\"sk-estimator-id-1\" type=\"checkbox\" checked><label for=\"sk-estimator-id-1\" class=\"sk-toggleable__label sk-toggleable__label-arrow\">LinearRegression</label><div class=\"sk-toggleable__content\"><pre>LinearRegression()</pre></div></div></div></div></div>"
            ]
          },
          "metadata": {},
          "execution_count": 36
        }
      ],
      "source": [
        "from sklearn.linear_model import LinearRegression \n",
        "import numpy\n",
        "X = [i for i in range(0, len(series))]\n",
        "X = numpy.reshape(X, (len(X), 1))\n",
        "y = series.values\n",
        "model = LinearRegression()\n",
        "model.fit(X, y)"
      ]
    },
    {
      "cell_type": "code",
      "execution_count": 37,
      "id": "990b5732",
      "metadata": {
        "id": "990b5732"
      },
      "outputs": [],
      "source": [
        "# calculate trend\n",
        "trend = model.predict(X)"
      ]
    },
    {
      "cell_type": "code",
      "execution_count": 38,
      "id": "f22fe2ed",
      "metadata": {
        "colab": {
          "base_uri": "https://localhost:8080/",
          "height": 452
        },
        "id": "f22fe2ed",
        "outputId": "6746737e-3c7f-440c-866a-d0d2678542e9"
      },
      "outputs": [
        {
          "output_type": "display_data",
          "data": {
            "text/plain": [
              "<Figure size 640x480 with 1 Axes>"
            ],
            "image/png": "[encoded data removed]"
          },
          "metadata": {}
        }
      ],
      "source": [
        "# calculate trend\n",
        "trend = model.predict(X)\n",
        "# plot trend\n",
        "pyplot.plot(y, label='Series')\n",
        "pyplot.plot(trend, label = 'Trend')\n",
        "plt.legend(loc=\"upper left\")\n",
        "pyplot.title('Trend and Series Data')\n",
        "pyplot.show()"
      ]
    },
    {
      "cell_type": "code",
      "execution_count": 39,
      "id": "0ef10f52",
      "metadata": {
        "id": "0ef10f52"
      },
      "outputs": [],
      "source": [
        "# split into train and test sets\n",
        "X = series.values\n",
        "size = int(len(X) * 0.70)\n",
        "train, test = X[0:size], X[size:len(X)]\n",
        "history = [x for x in train]"
      ]
    },
    {
      "cell_type": "code",
      "execution_count": 40,
      "id": "34432bfa",
      "metadata": {
        "colab": {
          "base_uri": "https://localhost:8080/"
        },
        "id": "34432bfa",
        "outputId": "c2f72d62-f07d-4188-bad9-778f68caeba3"
      },
      "outputs": [
        {
          "output_type": "stream",
          "name": "stderr",
          "text": [
            "/usr/local/lib/python3.9/dist-packages/statsmodels/tsa/statespace/sarimax.py:978: UserWarning: Non-invertible starting MA parameters found. Using zeros as starting parameters.\n",
            "  warn('Non-invertible starting MA parameters found.'\n",
            "/usr/local/lib/python3.9/dist-packages/statsmodels/base/model.py:604: ConvergenceWarning: Maximum Likelihood optimization failed to converge. Check mle_retvals\n",
            "  warnings.warn(\"Maximum Likelihood optimization failed to \"\n",
            "/usr/local/lib/python3.9/dist-packages/statsmodels/tsa/statespace/sarimax.py:966: UserWarning: Non-stationary starting autoregressive parameters found. Using zeros as starting parameters.\n",
            "  warn('Non-stationary starting autoregressive parameters'\n"
          ]
        },
        {
          "output_type": "stream",
          "name": "stdout",
          "text": [
            "predicted=1015.639272, expected=1022.981667\n",
            "predicted=1036.812400, expected=1055.112554\n",
            "predicted=1080.939662, expected=1085.145100\n",
            "predicted=1114.024757, expected=1125.693047\n",
            "predicted=1163.473834, expected=1168.907323\n"
          ]
        }
      ],
      "source": [
        "from statsmodels.tsa.arima.model import ARIMA\n",
        "predictions = list()\n",
        "# walk-forward validation\n",
        "for t in range(len(test)):\n",
        "    model = ARIMA(history, order=(1,1,1))\n",
        "    model_fit = model.fit()\n",
        "    output = model_fit.forecast()\n",
        "    yhat = output[0]\n",
        "    predictions.append(yhat)\n",
        "    obs = test[t]\n",
        "    history.append(obs)\n",
        "    print('predicted=%f, expected=%f' % (yhat, obs))"
      ]
    },
    {
      "cell_type": "code",
      "execution_count": 41,
      "id": "75f2990d",
      "metadata": {
        "colab": {
          "base_uri": "https://localhost:8080/"
        },
        "id": "75f2990d",
        "outputId": "7e3be5aa-b62c-4432-9869-939697cc27d6"
      },
      "outputs": [
        {
          "output_type": "stream",
          "name": "stderr",
          "text": [
            "/usr/local/lib/python3.9/dist-packages/statsmodels/base/model.py:604: ConvergenceWarning: Maximum Likelihood optimization failed to converge. Check mle_retvals\n",
            "  warnings.warn(\"Maximum Likelihood optimization failed to \"\n"
          ]
        },
        {
          "output_type": "stream",
          "name": "stdout",
          "text": [
            "predicted=1018.392311, expected=1022.981667\n"
          ]
        },
        {
          "output_type": "stream",
          "name": "stderr",
          "text": [
            "/usr/local/lib/python3.9/dist-packages/statsmodels/base/model.py:604: ConvergenceWarning: Maximum Likelihood optimization failed to converge. Check mle_retvals\n",
            "  warnings.warn(\"Maximum Likelihood optimization failed to \"\n"
          ]
        },
        {
          "output_type": "stream",
          "name": "stdout",
          "text": [
            "predicted=1034.037583, expected=1055.112554\n",
            "predicted=1079.775473, expected=1085.145100\n"
          ]
        },
        {
          "output_type": "stream",
          "name": "stderr",
          "text": [
            "/usr/local/lib/python3.9/dist-packages/statsmodels/base/model.py:604: ConvergenceWarning: Maximum Likelihood optimization failed to converge. Check mle_retvals\n",
            "  warnings.warn(\"Maximum Likelihood optimization failed to \"\n"
          ]
        },
        {
          "output_type": "stream",
          "name": "stdout",
          "text": [
            "predicted=1113.478409, expected=1125.693047\n",
            "predicted=1164.355530, expected=1168.907323\n"
          ]
        }
      ],
      "source": [
        "history = [x for x in train]\n",
        "predictions = list()\n",
        "\n",
        "# walk-forward validation\n",
        "for t in range(len(test)):\n",
        " model = ARIMA(history, order=(5,1,1))\n",
        " model_fit = model.fit()\n",
        " output = model_fit.forecast()\n",
        " yhat = output[0]\n",
        " predictions.append(yhat)\n",
        " obs = test[t]\n",
        " history.append(obs)\n",
        " print('predicted=%f, expected=%f' % (yhat, obs))\n",
        "# evaluate forecasts"
      ]
    },
    {
      "cell_type": "code",
      "execution_count": 42,
      "id": "819a2729",
      "metadata": {
        "colab": {
          "base_uri": "https://localhost:8080/"
        },
        "id": "819a2729",
        "outputId": "939fa3a9-f7c0-4ab3-8e67-4221231985f5"
      },
      "outputs": [
        {
          "output_type": "stream",
          "name": "stdout",
          "text": [
            "Test RMSE: 11.524\n"
          ]
        }
      ],
      "source": [
        "from sklearn.metrics import mean_squared_error \n",
        "from math import sqrt\n",
        "rmse = sqrt(mean_squared_error(test, predictions))\n",
        "print('Test RMSE: %.3f' % rmse)"
      ]
    },
    {
      "cell_type": "code",
      "execution_count": 43,
      "id": "5c3f9879",
      "metadata": {
        "colab": {
          "base_uri": "https://localhost:8080/",
          "height": 452
        },
        "id": "5c3f9879",
        "outputId": "4637c7bb-cfc6-4a1a-ea10-8bab646786e3"
      },
      "outputs": [
        {
          "output_type": "display_data",
          "data": {
            "text/plain": [
              "<Figure size 640x480 with 1 Axes>"
            ],
            "image/png": "[encoded data removed]"
          },
          "metadata": {}
        }
      ],
      "source": [
        "# plot forecasts against actual outcomes\n",
        "pyplot.plot(test, label='Expected')\n",
        "pyplot.plot(predictions, color='red', label='Predicted')\n",
        "pyplot.title('Expected Values vs. Rolling Forecast Predictions')\n",
        "plt.legend(loc=\"upper left\")\n",
        "pyplot.show()"
      ]
    },
    {
      "cell_type": "code",
      "execution_count": 43,
      "id": "0a5f49d0",
      "metadata": {
        "id": "0a5f49d0"
      },
      "outputs": [],
      "source": []
    }
  ],
  "metadata": {
    "kernelspec": {
      "display_name": "Python 3 (ipykernel)",
      "language": "python",
      "name": "python3"
    },
    "language_info": {
      "codemirror_mode": {
        "name": "ipython",
        "version": 3
      },
      "file_extension": ".py",
      "mimetype": "text/x-python",
      "name": "python",
      "nbconvert_exporter": "python",
      "pygments_lexer": "ipython3",
      "version": "3.10.9"
    },
    "colab": {
      "provenance": []
    }
  },
  "nbformat": 4,
  "nbformat_minor": 5
}